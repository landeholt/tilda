{
 "cells": [
  {
   "cell_type": "markdown",
   "metadata": {
    "slideshow": {
     "slide_type": "slide"
    }
   },
   "source": [
    "## Övning 1\n",
    "__John Landeholt__\n",
    "\n",
    "johnlan@kth.se\n",
    "\n",
    "\n",
    "__agenda:__\n",
    "* Pythons dokumentation: string och list\n",
    "* Abstrakt datatyp för temperatur\n",
    "* Stack implementerad med länkad lista\n",
    "* Tentafrågor på olika betygsnivå"
   ]
  },
  {
   "cell_type": "markdown",
   "metadata": {
    "slideshow": {
     "slide_type": "slide"
    }
   },
   "source": [
    "## Kahoot-tävling\n",
    "Hur fungerar egentligen __datatyperna__ `string` och `list`? Jag tycker det är dags att vi alla lär oss dess funktionalitet nu!\n",
    "\n",
    "### Ta 10 minuter på er och läs igenom dokumentationen för båda datatyperna\n",
    "Länkar kommer på __zoom__\n",
    "\n",
    "[String](https://docs.python.org/3/library/stdtypes.html#string-methods)\n",
    "[List](https://docs.python.org/3/tutorial/datastructures.html)"
   ]
  },
  {
   "cell_type": "markdown",
   "metadata": {
    "slideshow": {
     "slide_type": "slide"
    }
   },
   "source": [
    "## Abstrakt datatyp\n",
    "\n",
    "### Vad menas med en abstrakt datatyp?\n",
    "Vi är vana med att en datatyp kan vara en string, list, dictionary eller kanske till och med en klass. En abstrakt datatyp är inget mer än en klass som har ett abstrakt syfte."
   ]
  },
  {
   "cell_type": "code",
   "execution_count": null,
   "metadata": {
    "slideshow": {
     "slide_type": "subslide"
    }
   },
   "outputs": [],
   "source": [
    "class Temperature:\n",
    "    \"\"\" A abstract datatype for seamless temperature unit conversion \"\"\"\n",
    "    \n",
    "    # Conversion table with nested lambda functions that makes the conversion seamless\n",
    "    conversion = {\n",
    "        'K':{\n",
    "            'F': lambda x : (x - 273.15) * 1.8 + 32, 'C': lambda x :  x - 273.15, 'K': lambda x : x\n",
    "        },\n",
    "        'F':{\n",
    "            'F': lambda x : x, 'C': lambda x : (x - 32) * 5 / 9, 'K': lambda x : (x + 459.67) * 5 / 9, \n",
    "        },\n",
    "        'C':{\n",
    "            'F': lambda x : x * 9 / 5 + 32, 'C': lambda x : x, 'K': lambda x : x + 273.15\n",
    "        }\n",
    "    }\n",
    "    \n",
    "    def __init__(self, unit, value):\n",
    "        self.original_unit = unit\n",
    "        self.original_value = float(value)\n",
    "    \n",
    "    def __convert(self,to_unit):\n",
    "        conversion_function = self.conversion[self.original_unit][to_unit]\n",
    "        return conversion_function(self.original_value)\n",
    "    \n",
    "    @property\n",
    "    def K(self):\n",
    "        return self.__convert('K')\n",
    "    @property\n",
    "    def C(self):\n",
    "        return self.__convert('C')\n",
    "    @property\n",
    "    def F(self):\n",
    "        return self.__convert('F')\n",
    "    \n",
    "    def __repr__(self):\n",
    "        return f'<Temperature unit: {self.original_unit} temp: {self.original_value}>'\n",
    "    \n",
    "        "
   ]
  },
  {
   "cell_type": "code",
   "execution_count": null,
   "metadata": {
    "slideshow": {
     "slide_type": "subslide"
    }
   },
   "outputs": [],
   "source": [
    "t = Temperature('C', 0)\n",
    "print(t.K)\n",
    "print(t.C)\n",
    "print(t.F)\n",
    "print(t)"
   ]
  },
  {
   "cell_type": "markdown",
   "metadata": {
    "slideshow": {
     "slide_type": "slide"
    }
   },
   "source": [
    "## Stack & Länkad lista\n",
    "\n",
    "<img style=\"float: right;\" src=\"https://miro.medium.com/max/554/1*HgSDnflZkAjg9aXD5Fq9ZA.jpeg\" width=\"33%\"/>\n",
    "\n",
    "### Vad är en stack?\n",
    "\n",
    "Det är precis vad det låter som. Det är en hög av objekt, där man placerar objekten på hög.\n",
    "\n"
   ]
  },
  {
   "cell_type": "markdown",
   "metadata": {
    "slideshow": {
     "slide_type": "subslide"
    }
   },
   "source": [
    "## Stack & Länkad lista\n",
    "\n",
    "<img style=\"float: right;\" src=\"https://miro.medium.com/max/953/1*elJncKhH_P9oQglfI1aVQA.png\" width=\"33%\"/>\n",
    "\n",
    "### Vad är en länkad lista?\n",
    "\n",
    "\n",
    "En länkad lista är en container där vardera `nod`, eller `element` har en __relation__ mellan sig.\n",
    "\n",
    "Not: *En vanlig lista i python är en singly-linked list, men bör inte få användas i DD1320 när det efterfrågas om en länkad lista*\n"
   ]
  },
  {
   "cell_type": "markdown",
   "metadata": {
    "slideshow": {
     "slide_type": "subslide"
    }
   },
   "source": [
    "### Vad är relationen mellan stack och länkad lista?\n",
    "Stacken använder sig utav länkad lista som sin container."
   ]
  },
  {
   "cell_type": "markdown",
   "metadata": {
    "slideshow": {
     "slide_type": "fragment"
    }
   },
   "source": [
    "### Vi börjar med att konstruera en länkad lista och en nod\n",
    "En länkad lista behöver följande:\n",
    "* head-attribut\n",
    "* size-attribut\n",
    "\n",
    "En nod behöver följande:\n",
    "* objekt-datan\n",
    "* next-referens"
   ]
  },
  {
   "cell_type": "code",
   "execution_count": null,
   "metadata": {
    "slideshow": {
     "slide_type": "subslide"
    }
   },
   "outputs": [],
   "source": [
    "class Node:\n",
    "    \"\"\" Container for a single abstract object \"\"\"\n",
    "    def __init__(self, data, next = None):\n",
    "        self.data = data\n",
    "        self.next = next\n",
    "    def __str__(self):\n",
    "        return str(self.data)"
   ]
  },
  {
   "cell_type": "code",
   "execution_count": null,
   "metadata": {
    "slideshow": {
     "slide_type": "fragment"
    }
   },
   "outputs": [],
   "source": [
    "class Linked_list:\n",
    "    \"\"\" Container of many single nodes \"\"\"\n",
    "    def __init__(self):\n",
    "        self.head = None\n",
    "        self.size = 0\n",
    "        \n",
    "    def push(self, element):\n",
    "        node = Node(element)\n",
    "        node.next = self.head\n",
    "        self.head = node\n",
    "            \n",
    "        self.size += 1\n",
    "    \n",
    "    def pop(self):\n",
    "        if not self.is_empty():\n",
    "            element = self.head\n",
    "            self.head = self.head.next\n",
    "            self.size -= 1\n",
    "            return element\n",
    "        \n",
    "    def is_empty(self):\n",
    "        return self.size == 0\n",
    "    \n",
    "    def __repr__(self):\n",
    "        elements_as_str = \"\"\n",
    "        pointer = self.head\n",
    "        while not pointer == None:\n",
    "            elements_as_str += str(pointer) + \", \"\n",
    "            pointer = pointer.next\n",
    "        return f'<Linked_list contains: [{elements_as_str}] size: {self.size} head: {self.head}>'"
   ]
  },
  {
   "cell_type": "code",
   "execution_count": null,
   "metadata": {
    "slideshow": {
     "slide_type": "subslide"
    }
   },
   "outputs": [],
   "source": [
    "class Stack(Linked_list):\n",
    "    \"\"\" Stack implemented as a linked list \"\"\"\n",
    "    def __init__(self):\n",
    "        super().__init__()"
   ]
  },
  {
   "cell_type": "code",
   "execution_count": null,
   "metadata": {
    "slideshow": {
     "slide_type": "fragment"
    }
   },
   "outputs": [],
   "source": [
    "stack = Stack()\n",
    "stack.push(1)\n",
    "stack.push(2)\n",
    "stack.push(3)\n",
    "stack.push(4)\n",
    "print(stack)\n",
    "stack.pop()\n",
    "print(stack)"
   ]
  },
  {
   "cell_type": "code",
   "execution_count": null,
   "metadata": {
    "slideshow": {
     "slide_type": "fragment"
    }
   },
   "outputs": [],
   "source": [
    "while not stack.is_empty():\n",
    "    print(stack.pop())"
   ]
  },
  {
   "cell_type": "markdown",
   "metadata": {
    "slideshow": {
     "slide_type": "slide"
    }
   },
   "source": [
    "## Tentafrågornas svårighetsgrader\n",
    "\n",
    "### Cykeltentan 2014-10-24 [4] Betyg E\n",
    "Cyklisterna köar vid övergångsstället nere vid Valhallavägen. Först i kön står Linda, sen Alexander, sen Robert och sist Marko.\n",
    "\n",
    "Kön är implementerad med en länkad lista. Rita bilder som visar hur det ser ut i detalj (varje steg) när man sätter in respektive plockar ut ett element ur kön.\n"
   ]
  },
  {
   "cell_type": "markdown",
   "metadata": {
    "slideshow": {
     "slide_type": "subslide"
    }
   },
   "source": [
    "### Lösning\n",
    "Kom ihåg hur relationen är kopplad i en länkad lista! Varje nod/element är kopplad med en next-pekare, vilket innebär att t.ex Markos next-pekare är None, medans Roberts pekar på Marko.\n",
    "\n",
    "<img src=\"img/ö1t1.png\"/>"
   ]
  },
  {
   "cell_type": "markdown",
   "metadata": {
    "slideshow": {
     "slide_type": "slide"
    }
   },
   "source": [
    "### Alien-tentan 2015-03-20, [6] betyg E/C\n",
    "En norrskensentusiast vill lagra bilder på norrsken. Vad finns det för __fördelar__ respektive __nackdelar__ med en `vektor` respektive en `länkad lista` när det gäller\n",
    "\n",
    "* åtkomst\n",
    "* insättning\n",
    "* borttagning\n",
    "\n",
    "Svara med en tabell med tre rader."
   ]
  },
  {
   "cell_type": "markdown",
   "metadata": {
    "slideshow": {
     "slide_type": "subslide"
    }
   },
   "source": [
    "### Lösning\n",
    "\n",
    "Frågan handlar om `komplexitet` mellan datastrukturerna vektor (ekvivalent med array) och länkad lista.\n",
    "\n",
    "<img src=\"img/ö1t2.png\"/>\n",
    "\n",
    "Enligt denna tabell ser vi att:\n",
    "\n",
    "| operation | vektor | länkad lista |\n",
    "| --- | --- | --- |\n",
    "| åtkomst | O(1) | O(n) |\n",
    "| insättning | O(n) | O(1) |\n",
    "| borttagning | O(n) | O(1) |"
   ]
  },
  {
   "cell_type": "markdown",
   "metadata": {
    "slideshow": {
     "slide_type": "slide"
    }
   },
   "source": [
    "# Tack för idag!"
   ]
  }
 ],
 "metadata": {
  "celltoolbar": "Slideshow",
  "kernelspec": {
   "display_name": "Python 3",
   "language": "python",
   "name": "python3"
  },
  "language_info": {
   "codemirror_mode": {
    "name": "ipython",
    "version": 3
   },
   "file_extension": ".py",
   "mimetype": "text/x-python",
   "name": "python",
   "nbconvert_exporter": "python",
   "pygments_lexer": "ipython3",
   "version": "3.9.0"
  }
 },
 "nbformat": 4,
 "nbformat_minor": 4
}
