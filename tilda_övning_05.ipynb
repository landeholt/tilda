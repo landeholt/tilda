{
 "cells": [
  {
   "cell_type": "markdown",
   "metadata": {
    "slideshow": {
     "slide_type": "slide"
    }
   },
   "source": [
    "## Övning 5\n",
    "__John Landeholt__\n",
    "\n",
    "johnlan@kth.se\n",
    "\n",
    "\n",
    "__agenda:__\n",
    "\n",
    "* Kattis (Lab 8)\n",
    "    * Testning\n",
    "* Syntax (Lab 9)\n",
    "* Automater (Föreläsning 10)\n",
    "    * KMP-automat"
   ]
  },
  {
   "cell_type": "markdown",
   "metadata": {
    "slideshow": {
     "slide_type": "slide"
    }
   },
   "source": [
    "### Kattis\n",
    "\n",
    "<img src=\"img/ö5i1.png\" width=\"33%\" style=\"float:right;\"/>\n",
    "\n",
    "Kattis är en plattform som kontrollerar ditt programs `korrekthet`. Den gör det igenom att köra ditt program på olika testfall, och om den får ett resultat den förväntar sig, så är programmet korrekt utfört, annars inte.\n",
    "\n",
    "I __labb 9__ ska vi använda oss utav [Formelkoll](https://kth.kattis.com/problems/kth.tilda.formelkoll2) som kommer att läsa en molekylformel med hjälp av ditt program och sedan jämföra det med sin databas för att se om det stämmer.\n",
    "\n",
    ">__notera__: Kattis är verkligen inte perfekt, pedagogiskt eller lätt. Hon kommer endast berätta att det är fel och inte varför det är fel. Det är upp dit datalogen att förstå vad som kan vara fel.\n",
    "\n",
    "Hjälpkod för att läsa och skriva till Kattis:\n",
    "\n",
    "[Kattio](https://github.com/landeholt/tilda/blob/main/help-code/kattio.py)\n",
    "\n",
    "[Skelettkod till lab 8 och 9](https://github.com/landeholt/tilda/blob/main/skeleton-code/molecule.py)"
   ]
  },
  {
   "cell_type": "code",
   "execution_count": null,
   "metadata": {
    "slideshow": {
     "slide_type": "fragment"
    }
   },
   "outputs": [],
   "source": [
    "# Kattio\n",
    "from sys import stdin, stdout\n",
    "\n",
    "def get_formula():\n",
    "    return stdin.readline().strip()\n",
    "\n",
    "def get_formulas():\n",
    "    for line in stdin:\n",
    "        yield line.strip()\n",
    "\n",
    "def send(out):\n",
    "    stdout.write(str(out) + '\\n')"
   ]
  },
  {
   "cell_type": "markdown",
   "metadata": {
    "slideshow": {
     "slide_type": "slide"
    }
   },
   "source": [
    "### Testning\n",
    "\n",
    "Innan man skickar in till __kattis__ kan det vara bra och faktiskt testa sin kod lokalt först. Detta gör man genom att skriva testfiler som kontrollerar om inputen resulterar till den förväntade outputen.\n",
    "\n",
    "[testfil till lab 8 och 9](https://github.com/landeholt/tilda/blob/main/help-code/test_lab8.py)"
   ]
  },
  {
   "cell_type": "code",
   "execution_count": null,
   "metadata": {
    "slideshow": {
     "slide_type": "fragment"
    }
   },
   "outputs": [],
   "source": [
    "from YOUR_FILE import YOUR_FUNCTION as f\n",
    "# from lab8 import formula as f\n",
    "import pytest\n",
    "\n",
    "@pytest.mark.parametrize('formula, expected', [\n",
    "    ('Na', 'Formeln är syntaktiskt korrekt'),\n",
    "    ('H2O', 'Formeln är syntaktiskt korrekt'),\n",
    "    ('Si(C3(COOH)2)4(H2O)7', 'Formeln är syntaktiskt korrekt'),\n",
    "    ('Na332', 'Formeln är syntaktiskt korrekt'),\n",
    "    ('C(Xx4)5', 'Okänd atom vid radslutet 4)5'),\n",
    "    ('C(OH4)C', 'Saknad siffra vid radslutet C'),\n",
    "    ('C(OH4C', 'Saknad högerparentes vid radslutet'),\n",
    "    ('H2O)Fe', 'Felaktig gruppstart vid radslutet )Fe'),\n",
    "    ('H0', 'För litet tal vid radslutet'),\n",
    "    ('H1C', 'För litet tal vid radslutet C'),\n",
    "    ('H02C', 'För litet tal vid radslutet 2C'),\n",
    "    ('Nacl', 'Saknad stor bokstav vid radslutet cl'),\n",
    "    ('a', 'Saknad stor bokstav vid radslutet a'),\n",
    "    ('(Cl)2)3', 'Felaktig gruppstart vid radslutet )3'),\n",
    "    (')', 'Felaktig gruppstart vid radslutet )'),\n",
    "    ('2', 'Felaktig gruppstart vid radslutet 2'),\n",
    "    ('', 'Formeln är syntaktiskt korrekt'),\n",
    "    ('H111', 'Formeln är syntaktiskt korrekt'),\n",
    "    ('H110', 'Formeln är syntaktiskt korrekt')\n",
    "])\n",
    "\n",
    "def test_formulas(formula, expected):\n",
    "    cert = f(formula)\n",
    "    assert cert == expected"
   ]
  },
  {
   "cell_type": "code",
   "execution_count": null,
   "metadata": {
    "slideshow": {
     "slide_type": "subslide"
    }
   },
   "outputs": [],
   "source": [
    "!pytest test_lab8.py"
   ]
  },
  {
   "cell_type": "code",
   "execution_count": null,
   "metadata": {
    "slideshow": {
     "slide_type": "fragment"
    }
   },
   "outputs": [],
   "source": [
    "!pytest test_lab8_wrong.py"
   ]
  },
  {
   "cell_type": "markdown",
   "metadata": {
    "slideshow": {
     "slide_type": "slide"
    }
   },
   "source": [
    "### Syntax\n",
    "\n",
    "__vad är syntax?__\n",
    "\n",
    "Det är en uppsättning regler för vilken `ordning` något får ske. När `python` läser in ditt program och analyserar det innan körningen så sker det en syntaktiskt kontroll för att säkertställa att programmet är `giltigt`. Men bara för att något är giltigt, betyder det inte att det är `korrekt` eller för den delen `ändligt`.\n",
    "\n",
    "En syntax kan vara rekursiv.\n",
    "\n",
    "    <mol> ::= <group> | <group><mol>\n",
    "    <group> ::= <atom> |<atom><num> | (<mol>) <num>\n",
    "    ...\n",
    "    \n",
    "Vilket i det här fallet innebär att en molekyl kan vara __en__ eller __flera__ grupper."
   ]
  },
  {
   "cell_type": "markdown",
   "metadata": {
    "slideshow": {
     "slide_type": "subslide"
    }
   },
   "source": [
    "### Rekursiv medåkning\n",
    "\n",
    "__vad menas med medåkning?__\n",
    "\n",
    "Vi kallar något medåkning när en funktion anropar __en__ eller __flera__ andra funktioner `ärver` in-parametrarna från tidigare funktionsanrop.\n",
    "\n",
    "> Eftersom objekt i python är `mutable`, så innebär detta att ett objekt kan förändras inuti funktioner, där vi tidigare kanske antagigt att endast lokala förändringar görs."
   ]
  },
  {
   "cell_type": "markdown",
   "metadata": {
    "slideshow": {
     "slide_type": "fragment"
    }
   },
   "source": [
    "__List exempel__:"
   ]
  },
  {
   "cell_type": "code",
   "execution_count": null,
   "metadata": {
    "slideshow": {
     "slide_type": "fragment"
    }
   },
   "outputs": [],
   "source": [
    "def write_to_list(_list):\n",
    "    if len(_list) < 5:\n",
    "        index = len(_list)\n",
    "        _list.append(index)\n",
    "        write_to_list(_list)\n",
    "\n",
    "def remove_from_list(_list):\n",
    "    item = 3\n",
    "    if item in _list:\n",
    "        _list.remove(item)\n",
    "\n",
    "def read_from_list(_list):\n",
    "    for item in _list:\n",
    "        print(item, end=' ')\n",
    "    print()\n",
    "\n",
    "index_list = []\n",
    "read_from_list(index_list)\n",
    "write_to_list(index_list)\n",
    "read_from_list(index_list)\n",
    "remove_from_list(index_list)\n",
    "read_from_list(index_list)"
   ]
  },
  {
   "cell_type": "markdown",
   "metadata": {
    "slideshow": {
     "slide_type": "subslide"
    }
   },
   "source": [
    "### Rekursiv medåkning\n",
    "\n",
    "__är detta ett problem?__\n",
    "\n",
    "Det beror helt på situationen. I lab 9 kommer det vara tvunget att använda sig utav rekursiv medåkning för att kontrollera syntaxen. Detta görs enklast med en datastruktur som är `länkad`.\n",
    "\n",
    "* Kö - en metod .peek() behöver läggas till\n",
    "* dubbellänkad lista\n",
    "* Stack - rekommenderar __inte__, tänk efter!\n",
    "\n",
    "Och som tidigare exempel visade, så kan objekt förändras inuti funktioner, även om de inte returnerar något. Detta leder till att vi måste säkerställa att inget lämnar datastrukturen när det inte ska göra det. Dvs, det får bara lämna `datastrukturen` när det är `syntaktiskt korrekt`"
   ]
  },
  {
   "cell_type": "markdown",
   "metadata": {
    "slideshow": {
     "slide_type": "subslide"
    }
   },
   "source": [
    "### Syntax\n",
    "\n",
    "__Hur skriver man en syntax?__\n",
    "\n",
    "För att kunna skriva en syntax behöver vi veta dens `environment` och `beteende`.\n",
    "\n",
    "Vi kan ta ett exempel från tentamen __2000-08-31__:\n",
    "\n",
    "Vi ska koda en webbläsare och behöver nu implementera en renderings-funktion till webbläsaren!\n",
    "\n",
    "Som test använder vi oss utav denna filen index.qhtml:\n",
    "\n",
    "    Organismer <BR> <Q> Djur <BR> <Q> Flugor <BR> Sillar <BR> </Q> Svamp <BR> <Q> Flugsvamp <BR>\n",
    "    Sillkremla <BR> </Q> </Q>\n",
    "   \n",
    "Där vi måste greja biffen att se till att vår renderings-funktion förstår vad de olika egenskaperna betyder för vår rendering!\n",
    "\n",
    "Vi läser på om taggarna till .qhtml-filen och ser att `<Q> </Q>` innebär att element innanför ska vara indraget, samt att `<BR>` innebär en ny rad.\n",
    "\n",
    "Men innan vi bygger renderings-funktionen så vill vår chef att vi tar fram en `syntax` __för__ webbfilen"
   ]
  },
  {
   "cell_type": "markdown",
   "metadata": {
    "slideshow": {
     "slide_type": "fragment"
    }
   },
   "source": [
    "Vi börjar med att analysera vilka regler som får finnas i webbfilen och märker att det måste vara:\n",
    "* `<text>` - vanlig text som inte är inuti några taggar\n",
    "* `<BR>`\n",
    "* `<Q>`\n",
    "* `</Q>`\n",
    "\n",
    "Men också `<webbfil>`, eftersom det är __för__ den som vi gör syntaxen till. Hur annars ska vi få tillgång till innehållet?\n",
    "\n",
    "`<webbfil>` får innehålla alla ovanstående, så vi börjar där!\n",
    "\n",
    "    <webbfil> ::= <text> | <webbfil><BR><webbfil> | <Q><webbfil></Q>\n",
    "\n",
    "__Varför?__\n",
    "\n",
    "Vi säger att `<webbfil>` får vara:\n",
    "* text \n",
    "* [text, eller annat]`<BR>`[text, eller annat]\n",
    "* `<Q>`[text, eller annat]`</Q>`\n",
    "\n",
    "Eftersom webbfil är en rekursion.\n",
    "\n",
    "Sist behöver vi förklara vad de olika taggarna får vara för något:\n",
    "\n",
    "    <text> ::= A | .. | Ö <text>\n",
    "    <BR>   ::= \"<BR>\"\n",
    "    <Q>    ::= \"<Q>\"\n",
    "    </Q>   ::= \"</Q>\"\n",
    "\n",
    "Där `<text>` också har en rekursion som tillåter alfabetiska strängar. Såklart kan siffror och tecken läggas till i efterhand, men för vårt webbfil __index.qhtml__ behövs ingen annat än alfabetet."
   ]
  },
  {
   "cell_type": "markdown",
   "metadata": {
    "slideshow": {
     "slide_type": "slide"
    }
   },
   "source": [
    "### Automater\n",
    "\n",
    "__vad är en automat?__\n",
    "\n",
    "Det är en maskin, eller i vårt fall en kodbas som har olika `tillstånd` (state). När man matar automaten med `indata` kommer automatens `tillstånd` eventuellt förändras beroende på om indatan ger upphov till det.\n",
    "\n",
    "<img src=\"img/ö5i2.png\" style=\"float:right;\"/>\n",
    "\n",
    "Tanken är att `indatan` används av maskinen och skapar ett nytt bestämt `tillstånd` utav den indatan, som man kan se i bilden till höger. Där inputen är Y, vilket leder till att man hamnar i state C.\n",
    "\n",
    "\n"
   ]
  },
  {
   "cell_type": "markdown",
   "metadata": {
    "slideshow": {
     "slide_type": "fragment"
    }
   },
   "source": [
    "__Exempel på automat__:\n",
    "\n",
    "<img src=\"https://miro.medium.com/max/1920/1*i83QledYJW6nHqtqlmXwIw.gif\" style=\"float:right;width:10%\"/>\n",
    "\n",
    "Ett trafikljus är en automat. Den har 4 `tillstånd`, där varje `tillstånd` har en unik lampa igång, om inte avstängd.Den har även en given följd, där om tillståndet är __grön__, så måste nästa input vara __röd__, annars har ett fel uppstått som gör att automaten sätts i en `evighetsloop` där `tillståndet` är __gul__\n"
   ]
  },
  {
   "cell_type": "code",
   "execution_count": null,
   "metadata": {
    "slideshow": {
     "slide_type": "fragment"
    }
   },
   "outputs": [],
   "source": [
    "# Traffic light example as a automata\n",
    "from time import sleep\n",
    "from shared import Automata\n",
    "\n",
    "def get_state(automata,_input):\n",
    "    states = {\n",
    "        'on': 'red',\n",
    "        'green': 'red',\n",
    "        'yellow': 'green',\n",
    "        'red': 'yellow',\n",
    "    }\n",
    "    try:\n",
    "        automata.state = states[_input]\n",
    "    except:\n",
    "        automata.state = 'fail_state'\n",
    "    finally:\n",
    "        return automata.state\n",
    "    \n",
    "def run(automata, _input):\n",
    "    for _ in range(3):\n",
    "        _input = get_state(automata, _input)\n",
    "        print(automata)\n",
    "        sleep(0.5)\n",
    "\n",
    "automata = Automata()\n",
    "\n",
    "run(automata, 'on')\n",
    "run(automata, None)"
   ]
  },
  {
   "cell_type": "markdown",
   "metadata": {
    "slideshow": {
     "slide_type": "subslide"
    }
   },
   "source": [
    "__ett mer datalognära exempel__:\n",
    "\n",
    "<img src=\"img/kth-kmp.png\" style=\"float:right\" />\n",
    "\n",
    "Textsökning är också en automat, som får en input som är det som ska sökas efter. Därefter går automaten igenom texten bokstav för bokstav och letar efter den följd av bokstäver som givits som input. I detta fall är det varje bokstav som är automatens `tillstånd`.\n",
    "\n",
    "En känd textsökningsalgoritm är KMP-Algoritmen. Det är __viktigt__ att __notera__ att __KTH's version__ av KMP automaten __skiljer__ sig extremt mycket från resterande världens KMP automat!!\n",
    "\n",
    "__Generella regler för KTH-KMP:__\n",
    "\n",
    "* Om s[0], alltså första tecknet i söksträngen förekommer någonstans i strängen, så får det tolkas som ett prefix.\n",
    "* Välj största möjliga prefixet\n",
    "* Om flera olika prefixer är inuti varandra, så ignoreras det prefixet som annars hade genererat en siffra.\n",
    "* Om ett index i söksträngen kan ge upphov till flera pekar-index, så ska man välja det högsta indexet."
   ]
  },
  {
   "cell_type": "markdown",
   "metadata": {
    "slideshow": {
     "slide_type": "fragment"
    }
   },
   "source": [
    "__2019-03-13 [1]__\n",
    "\n",
    "<img src=\"img/kth-kmp-2.png\" style=\"float:right\"/>\n",
    "\n",
    "Vi börjar enkelt för att pröva de tidigare nämda reglerna! Vi ser att det finns ett prefix i söksträngen. __KÖ__. Så efter alla förekomster förutom första gången så placerar vi index-siffran efter prefixet. I detta fallet är det (3, A).\n",
    "\n",
    "Därefter börjar vi från vänster och arbetar oss till höger. `n[0]` ska alltid vara __0__, sedan om det tillhör ett prefix eller inget alls så är det __1__. Om `s[0]` förekommer och inte har ett annat prefix framför sig, så sätt den som __0__."
   ]
  },
  {
   "cell_type": "markdown",
   "metadata": {
    "slideshow": {
     "slide_type": "fragment"
    }
   },
   "source": [
    "__2019-10-21 [1]__\n",
    "\n",
    "<img src=\"img/kth-kmp-1.png\" style=\"float:right\"/>\n",
    "\n",
    "Här ser vi att inga prefix finns, men det finns gott om förekomster av `s[0]`. Vi upprepar samma regler som tidigare och börjar med att placera ut värden för vår nextvektor för de vi redan vet om. Som i det här fallet är `n[i]` för platserna bakom alla förekomster av `s[0]`"
   ]
  },
  {
   "cell_type": "markdown",
   "metadata": {
    "slideshow": {
     "slide_type": "fragment"
    }
   },
   "source": [
    "__2017-10-20 [1]__\n",
    "\n",
    "<img src=\"img/kth-kmp-3.png\" style=\"float:right\"/>\n",
    "\n",
    "Nu börjar det bli lite knepigare! Funkar våra regler här också? Vi prövar! Här hittar vi 2 olika prefix. __PAP__ och __PA__. Sedan märker vi av att det finns flera förekomster av `s[0]`.\n",
    "\n",
    "Vi börjar med att kryssa av prefix-positionerna och börjar från höger. Där vi ser att `n[8]` blir __3__, eftersom __PA__ förekommer före `s[8]`. Därefter ser vi att `n[7]`blir 4, för att __PAP__ förekommer före `s[7]`. Men varför inte __2__, då det också är en förekomst av `s[0]`? Det är för att man alltid väljer det högsta indexet möjligt.\n",
    "\n",
    "Vid `n[6]` kommer en luring! __PA__ förekommer före `s[6]`, men eftersom `s[6]` är en del av ett annat prefix, så ignorerars det! Sist, men inte minst så finns det en förekomst av `s[0]` som inte berors av ett prefix, vilket är `n[4]`, så vi sätter den till __2__."
   ]
  },
  {
   "cell_type": "code",
   "execution_count": null,
   "metadata": {},
   "outputs": [],
   "source": []
  }
 ],
 "metadata": {
  "celltoolbar": "Slideshow",
  "kernelspec": {
   "display_name": "Python 3",
   "language": "python",
   "name": "python3"
  },
  "language_info": {
   "codemirror_mode": {
    "name": "ipython",
    "version": 3
   },
   "file_extension": ".py",
   "mimetype": "text/x-python",
   "name": "python",
   "nbconvert_exporter": "python",
   "pygments_lexer": "ipython3",
   "version": "3.9.0"
  }
 },
 "nbformat": 4,
 "nbformat_minor": 4
}
