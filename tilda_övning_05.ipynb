{
 "cells": [
  {
   "cell_type": "markdown",
   "metadata": {},
   "source": [
    "## Övning 5\n",
    "__John Landeholt__\n",
    "\n",
    "johnlan@kth.se\n",
    "\n",
    "\n",
    "__agenda:__\n",
    "\n",
    "* Kattis (Lab 8)\n",
    "* Syntax (Lab 8)\n",
    "* Automater\n",
    "* Reguljära uttryck (regex)"
   ]
  },
  {
   "cell_type": "markdown",
   "metadata": {},
   "source": [
    "### Kattis\n",
    "\n",
    "<img src=\"img/ö5i1.png\" width=\"33%\" style=\"float:right\"/>\n",
    "\n",
    "Kattis är en plattform som kontrollerar ditt programs `korrekthet`. Den gör det igenom att köra ditt program på olika testfall, och om den får ett resultat den förväntar sig, så är programmet korrekt utfört, annars inte.\n",
    "\n",
    "\n",
    "I labb 8 ska vi använda oss utav [Formelkoll](https://kth.kattis.com/problems/kth.tilda.formelkoll2) som kommer att läsa en molekylformel med hjälp av ditt program och sedan jämföra det med sin databas för att se om det stämmer.\n",
    "\n",
    ">__notera__: Kattis är verkligen inte perfekt, pedagogiskt eller lätt. Hon kommer endast berätta att det är fel och inte varför det är fel. Det är upp dit datalogen att förstå vad som kan vara fel."
   ]
  },
  {
   "cell_type": "code",
   "execution_count": null,
   "metadata": {},
   "outputs": [],
   "source": []
  }
 ],
 "metadata": {
  "kernelspec": {
   "display_name": "Python 3",
   "language": "python",
   "name": "python3"
  },
  "language_info": {
   "codemirror_mode": {
    "name": "ipython",
    "version": 3
   },
   "file_extension": ".py",
   "mimetype": "text/x-python",
   "name": "python",
   "nbconvert_exporter": "python",
   "pygments_lexer": "ipython3",
   "version": "3.9.0"
  }
 },
 "nbformat": 4,
 "nbformat_minor": 4
}
