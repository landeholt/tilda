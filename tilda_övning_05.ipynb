{
 "cells": [
  {
   "cell_type": "markdown",
   "metadata": {
    "slideshow": {
     "slide_type": "slide"
    }
   },
   "source": [
    "## Övning 5\n",
    "__John Landeholt__\n",
    "\n",
    "johnlan@kth.se\n",
    "\n",
    "\n",
    "__agenda:__\n",
    "\n",
    "* Kattis (Lab 8)\n",
    "    * Testning\n",
    "* Syntax (Lab 9)\n",
    "* Automater\n",
    "* Reguljära uttryck (regex)"
   ]
  },
  {
   "cell_type": "markdown",
   "metadata": {
    "slideshow": {
     "slide_type": "slide"
    }
   },
   "source": [
    "### Kattis\n",
    "\n",
    "<img src=\"img/ö5i1.png\" width=\"33%\" style=\"float:right\"/>\n",
    "\n",
    "Kattis är en plattform som kontrollerar ditt programs `korrekthet`. Den gör det igenom att köra ditt program på olika testfall, och om den får ett resultat den förväntar sig, så är programmet korrekt utfört, annars inte.\n",
    "\n",
    "\n",
    "I __labb 9__ ska vi använda oss utav [Formelkoll](https://kth.kattis.com/problems/kth.tilda.formelkoll2) som kommer att läsa en molekylformel med hjälp av ditt program och sedan jämföra det med sin databas för att se om det stämmer.\n",
    "\n",
    ">__notera__: Kattis är verkligen inte perfekt, pedagogiskt eller lätt. Hon kommer endast berätta att det är fel och inte varför det är fel. Det är upp dit datalogen att förstå vad som kan vara fel.\n",
    "\n",
    "Hjälpkod för att läsa och skriva till Kattis:\n",
    "\n",
    "[Kattio](https://github.com/landeholt/tilda/blob/main/help-code/kattio.py)\n",
    "\n",
    "[Skelettkod till lab 8 och 9](https://github.com/landeholt/tilda/blob/main/skeleton-code/molecule.py)"
   ]
  },
  {
   "cell_type": "code",
   "execution_count": null,
   "metadata": {
    "slideshow": {
     "slide_type": "subslide"
    }
   },
   "outputs": [],
   "source": [
    "# Kattio\n",
    "from sys import stdin, stdout\n",
    "\n",
    "def get_formula():\n",
    "    return stdin.readline().strip()\n",
    "\n",
    "def get_formulas():\n",
    "    for line in stdin:\n",
    "        yield line.strip()\n",
    "\n",
    "def send(out):\n",
    "    stdout.write(str(out) + '\\n')"
   ]
  },
  {
   "cell_type": "markdown",
   "metadata": {
    "slideshow": {
     "slide_type": "slide"
    }
   },
   "source": [
    "### Testning\n",
    "\n",
    "Innan man skickar in till __kattis__ kan det vara bra och faktiskt testa sin kod lokalt först. Detta gör man genom att skriva testfiler som kontrollerar om inputen resulterar till den förväntade outputen.\n",
    "\n",
    "[testfil till lab 8 och 9](https://github.com/landeholt/tilda/blob/main/help-code/test_lab8.py)"
   ]
  },
  {
   "cell_type": "code",
   "execution_count": null,
   "metadata": {
    "slideshow": {
     "slide_type": "fragment"
    }
   },
   "outputs": [],
   "source": [
    "from YOUR_FILE import YOUR_FUNCTION as f\n",
    "# from lab8 import formula as f\n",
    "import pytest\n",
    "\n",
    "@pytest.mark.parametrize('formula, expected', [\n",
    "    ('Na', 'Formeln är syntaktiskt korrekt'),\n",
    "    ('H2O', 'Formeln är syntaktiskt korrekt'),\n",
    "    ('Si(C3(COOH)2)4(H2O)7', 'Formeln är syntaktiskt korrekt'),\n",
    "    ('Na332', 'Formeln är syntaktiskt korrekt'),\n",
    "    ('C(Xx4)5', 'Okänd atom vid radslutet 4)5'),\n",
    "    ('C(OH4)C', 'Saknad siffra vid radslutet C'),\n",
    "    ('C(OH4C', 'Saknad högerparentes vid radslutet'),\n",
    "    ('H2O)Fe', 'Felaktig gruppstart vid radslutet )Fe'),\n",
    "    ('H0', 'För litet tal vid radslutet'),\n",
    "    ('H1C', 'För litet tal vid radslutet C'),\n",
    "    ('H02C', 'För litet tal vid radslutet 2C'),\n",
    "    ('Nacl', 'Saknad stor bokstav vid radslutet cl'),\n",
    "    ('a', 'Saknad stor bokstav vid radslutet a'),\n",
    "    ('(Cl)2)3', 'Felaktig gruppstart vid radslutet )3'),\n",
    "    (')', 'Felaktig gruppstart vid radslutet )'),\n",
    "    ('2', 'Felaktig gruppstart vid radslutet 2'),\n",
    "    ('', 'Formeln är syntaktiskt korrekt'),\n",
    "    ('H111', 'Formeln är syntaktiskt korrekt'),\n",
    "    ('H110', 'Formeln är syntaktiskt korrekt')\n",
    "])\n",
    "\n",
    "def test_formulas(formula, expected):\n",
    "    cert = f(formula)\n",
    "    assert cert == expected"
   ]
  },
  {
   "cell_type": "code",
   "execution_count": 2,
   "metadata": {
    "slideshow": {
     "slide_type": "subslide"
    }
   },
   "outputs": [
    {
     "name": "stdout",
     "output_type": "stream",
     "text": [
      "\u001b[1m============================= test session starts ==============================\u001b[0m\n",
      "platform darwin -- Python 3.9.0, pytest-6.2.1, py-1.10.0, pluggy-0.13.1\n",
      "rootdir: /Users/John/Documents/KTH/projects/stora-boken-om-nada\n",
      "collected 19 items                                                             \u001b[0m\n",
      "\n",
      "test_lab8.py \u001b[32m.\u001b[0m\u001b[32m.\u001b[0m\u001b[32m.\u001b[0m\u001b[32m.\u001b[0m\u001b[32m.\u001b[0m\u001b[32m.\u001b[0m\u001b[32m.\u001b[0m\u001b[32m.\u001b[0m\u001b[32m.\u001b[0m\u001b[32m.\u001b[0m\u001b[32m.\u001b[0m\u001b[32m.\u001b[0m\u001b[32m.\u001b[0m\u001b[32m.\u001b[0m\u001b[32m.\u001b[0m\u001b[32m.\u001b[0m\u001b[32m.\u001b[0m\u001b[32m.\u001b[0m\u001b[32m.\u001b[0m\u001b[32m                                         [100%]\u001b[0m\n",
      "\n",
      "\u001b[32m============================== \u001b[32m\u001b[1m19 passed\u001b[0m\u001b[32m in 0.04s\u001b[0m\u001b[32m ==============================\u001b[0m\n"
     ]
    }
   ],
   "source": [
    "!pytest test_lab8.py"
   ]
  },
  {
   "cell_type": "code",
   "execution_count": null,
   "metadata": {},
   "outputs": [],
   "source": [
    "!pytest tast"
   ]
  },
  {
   "cell_type": "markdown",
   "metadata": {
    "slideshow": {
     "slide_type": "slide"
    }
   },
   "source": [
    "### Syntax\n",
    "\n",
    "__vad är syntax?__\n",
    "\n",
    "Det är en uppsättning regler för vilken `ordning` något får ske. När `python` läser in ditt program och analyserar det innan körningen så sker det en syntaktiskt kontroll för att säkertställa att programmet är `giltigt`. Men bara för att något är giltigt, betyder det inte att det är `korrekt` eller för den delen `ändligt`.\n",
    "\n",
    "En syntax kan vara rekursiv.\n",
    "\n",
    "    <mol> ::= <group> | <group><mol>\n",
    "    <group> ::= <atom> |<atom><num> | (<mol>) <num>\n",
    "    ...\n",
    "    \n",
    "Vilket i det här fallet innebär att en molekyl kan vara __en__ eller __flera__ grupper."
   ]
  },
  {
   "cell_type": "code",
   "execution_count": null,
   "metadata": {},
   "outputs": [],
   "source": []
  }
 ],
 "metadata": {
  "celltoolbar": "Slideshow",
  "kernelspec": {
   "display_name": "Python 3",
   "language": "python",
   "name": "python3"
  },
  "language_info": {
   "codemirror_mode": {
    "name": "ipython",
    "version": 3
   },
   "file_extension": ".py",
   "mimetype": "text/x-python",
   "name": "python",
   "nbconvert_exporter": "python",
   "pygments_lexer": "ipython3",
   "version": "3.9.0"
  }
 },
 "nbformat": 4,
 "nbformat_minor": 4
}
