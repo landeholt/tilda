{
 "cells": [
  {
   "cell_type": "markdown",
   "metadata": {
    "slideshow": {
     "slide_type": "slide"
    }
   },
   "source": [
    "## Övning 2\n",
    "__John Landeholt__\n",
    "\n",
    "johnlan@kth.se\n",
    "\n",
    "\n",
    "__agenda:__\n",
    "* Komplexitetsanalys\n",
    "* Rekursion\n",
    "* Binärträd (LAB 3)"
   ]
  },
  {
   "cell_type": "markdown",
   "metadata": {
    "slideshow": {
     "slide_type": "slide"
    }
   },
   "source": [
    "## Komplexitetsanalys\n",
    "__FAKTA:__ Varje dator är sig själv unik. Ingen uppsättning datorer kommer någonsin ha samma körtid för ett och samma program.\n",
    "\n",
    "Därför har komplexitetsanalys tagits fram för att kunna avgöra hur effektiv en algoritm är med avseende på storlek på indata.\n",
    "\n",
    "### Hur beräknar man en algoritms komplexitet?\n",
    "Enklast möjligast är att läsa en algoritm och leta efter område där iteration/rekursion sker.\n",
    "\n",
    "### Vad räknas som iteration eller rekursion?\n",
    "Något som sker upprepade gånger.\n",
    "\n",
    "* for-loopar\n",
    "* while-loopar\n",
    "* själv-anrop\n",
    "\n",
    "### Vad räknas som konstant?\n",
    "Något som en processor kan slå upp extremt snabbt!\n",
    "\n",
    "* aritmetik\n",
    "* logiska operationer\n",
    "* Ett funktionsanrop (inte exekveringen)\n",
    "* initiering av variabler"
   ]
  },
  {
   "cell_type": "markdown",
   "metadata": {
    "slideshow": {
     "slide_type": "subslide"
    }
   },
   "source": [
    "### Att söka igenom en lista är linjärt [O(n)]"
   ]
  },
  {
   "cell_type": "code",
   "execution_count": null,
   "metadata": {
    "slideshow": {
     "slide_type": "fragment"
    }
   },
   "outputs": [],
   "source": [
    "def find_song(search, songs):\n",
    "    for s in songs:\n",
    "        if s == search: return True\n",
    "    return False\n",
    "songs = [\n",
    "    'Ready or Not', \n",
    "    'Full Clip', \n",
    "    'Fu-Gee-La', \n",
    "    'IM LOSING IT'\n",
    "]\n",
    "find_song('IM LOSING IT', songs)"
   ]
  },
  {
   "cell_type": "markdown",
   "metadata": {
    "slideshow": {
     "slide_type": "slide"
    }
   },
   "source": [
    "### Att accessa ett element i en lista är konstant [O(1)]\n",
    "Nackdel: Du behöver veta vart elementet i en lista ligger!\n",
    "Fördel: Extremt snabbt!\n"
   ]
  },
  {
   "cell_type": "code",
   "execution_count": null,
   "metadata": {
    "slideshow": {
     "slide_type": "subslide"
    }
   },
   "outputs": [],
   "source": [
    "songs[3]"
   ]
  },
  {
   "cell_type": "markdown",
   "metadata": {
    "slideshow": {
     "slide_type": "slide"
    }
   },
   "source": [
    "### Att söka igenom en hash-table är konstant [O(1)]\n"
   ]
  },
  {
   "cell_type": "code",
   "execution_count": null,
   "metadata": {
    "slideshow": {
     "slide_type": "subslide"
    }
   },
   "outputs": [],
   "source": [
    "songs_as_dictionary = dict().fromkeys(songs, True)\n",
    "def find_song(search, songs):\n",
    "    try:\n",
    "        if search in songs:\n",
    "            return songs[search]\n",
    "    except:\n",
    "        return False\n",
    "\n",
    "find_song('IM LOSING IT', songs_as_dictionary)"
   ]
  },
  {
   "cell_type": "markdown",
   "metadata": {
    "slideshow": {
     "slide_type": "slide"
    }
   },
   "source": [
    "### Att söka igenom med binärsökning är logaritmiskt [log(n)]\n",
    "binärsökning går ut på att man halverar intervallet för varje iteration"
   ]
  },
  {
   "cell_type": "code",
   "execution_count": null,
   "metadata": {
    "slideshow": {
     "slide_type": "subslide"
    }
   },
   "outputs": [],
   "source": [
    "def bin_search(search, songs, low, high, verbose = False):\n",
    "    if high > low:\n",
    "        mid = (high + low) // 2\n",
    "        if verbose: print(f'pointer: {mid}, searching for: {search} in {songs[low:high]}')\n",
    "        if songs[mid] == search: return True\n",
    "        elif songs[mid] > search: return bin_search(search, songs, low, mid - 1, verbose)\n",
    "        else: return bin_search(search, songs, mid + 1, high, verbose)\n",
    "    else:\n",
    "        return False\n",
    "\n",
    "bin_search('IM LOSING IT', songs, 0, len(songs))"
   ]
  },
  {
   "cell_type": "markdown",
   "metadata": {
    "slideshow": {
     "slide_type": "slide"
    }
   },
   "source": [
    "## Rekursion\n",
    "Något sägs göra en rekursion när det anropar sig själv!\n",
    "\n",
    "Rekursionsalgoritmer använder sig av basfall för att kunna returnera något värde. Utan dessa, kommer rekusion inte vara `ändlig` och fortsätta i all oändlighet."
   ]
  },
  {
   "cell_type": "markdown",
   "metadata": {
    "slideshow": {
     "slide_type": "subslide"
    }
   },
   "source": [
    "### Typexempel:"
   ]
  },
  {
   "cell_type": "code",
   "execution_count": null,
   "metadata": {
    "slideshow": {
     "slide_type": "fragment"
    }
   },
   "outputs": [],
   "source": [
    "def power_recur(base, n):\n",
    "    if (n != 0): return (base * power_recur(base, n - 1))\n",
    "    else: return 1\n",
    "power_recur(2, 5)"
   ]
  },
  {
   "cell_type": "code",
   "execution_count": null,
   "metadata": {
    "slideshow": {
     "slide_type": "fragment"
    }
   },
   "outputs": [],
   "source": [
    "def factorial_recur(n):\n",
    "    if n == 1: return 1\n",
    "    else: return n * factorial_recur(n-1)\n",
    "factorial_recur(5)"
   ]
  },
  {
   "cell_type": "code",
   "execution_count": null,
   "metadata": {
    "slideshow": {
     "slide_type": "fragment"
    }
   },
   "outputs": [],
   "source": [
    "def fibonacci_recur(n):\n",
    "    if n <= 1: return n\n",
    "    else: return fibonacci_recur(n-1) + fibonacci_recur(n-2)\n",
    "\n",
    "fibonacci_recur(3)"
   ]
  },
  {
   "cell_type": "markdown",
   "metadata": {
    "slideshow": {
     "slide_type": "slide"
    }
   },
   "source": [
    "## Binärträd\n",
    "\n",
    "<img src=\"https://miro.medium.com/max/1134/1*S9O9sNJQkfwFbtaji9e25w.png\" style=\"float:right\" width=\"33%\"/>\n",
    "\n",
    "Är en datastruktur där man lagrar objekt i noder som kan vara en `förälder` och __maximalt__ ha 2 `barn`\n",
    "\n",
    "\n",
    "### Quiz\n",
    "\n",
    "INORDER [vänster, rot, höger]: ?\n",
    "\n",
    "PREORDER [rot, vänster, höger]: ?\n",
    "\n",
    "POSTORDER [vänster, höger, rot]: ?"
   ]
  },
  {
   "cell_type": "code",
   "execution_count": null,
   "metadata": {
    "slideshow": {
     "slide_type": "fragment"
    }
   },
   "outputs": [],
   "source": [
    "from binarytree import build\n",
    "\n",
    "root = build([6,3,9,1,5,7,11])\n",
    "\n",
    "def inorder(root):\n",
    "    print(\"Inorder:\", end= \" \")\n",
    "    for n in root.inorder: print(n.value, end=\" \")\n",
    "    print()\n",
    "def preorder(root):\n",
    "    print(\"Preorder:\", end= \" \")\n",
    "    for n in root.preorder: print(n.value, end=\" \")\n",
    "    print()\n",
    "def postorder(root):\n",
    "    print(\"Postorder:\", end= \" \")\n",
    "    for n in root.postorder: print(n.value, end=\" \")\n",
    "    print()\n",
    "\n",
    "inorder(root)\n",
    "#preorder(root)\n",
    "#postorder(root)"
   ]
  },
  {
   "cell_type": "markdown",
   "metadata": {
    "slideshow": {
     "slide_type": "subslide"
    }
   },
   "source": [
    "## Binärträd\n",
    "### Hur bestäms nodernas positioner?\n",
    "Ett binärträds __enkla regel__ är att om en nod är `större` än nuvarande nod, så __traversar__ den vidare åt höger. Annars vänster."
   ]
  },
  {
   "cell_type": "markdown",
   "metadata": {
    "slideshow": {
     "slide_type": "fragment"
    }
   },
   "source": [
    "Så vi utvecklar vår tidigare nod till att nu ha 2st `pekare` istället för 1 `pekare` som i `länkad lista` exemplet från övning 1."
   ]
  },
  {
   "cell_type": "code",
   "execution_count": null,
   "metadata": {
    "slideshow": {
     "slide_type": "fragment"
    }
   },
   "outputs": [],
   "source": [
    "class Node:\n",
    "    def __init__(self, obj):\n",
    "        self.left = None\n",
    "        self.right = None\n",
    "        self.data = obj\n",
    "        \n",
    "    # \"greather than\" magic_method\n",
    "    def __gt__(self, other):\n",
    "        return self.data > other.data\n",
    "    \n",
    "    @property\n",
    "    def inorder(self):\n",
    "        if self == None: return\n",
    "        if self.left != None: self.left.inorder\n",
    "        print(self.data, end = \", \")\n",
    "        if self.right != None: self.right.inorder\n",
    "\n"
   ]
  },
  {
   "cell_type": "code",
   "execution_count": null,
   "metadata": {
    "slideshow": {
     "slide_type": "subslide"
    }
   },
   "outputs": [],
   "source": [
    "def insert(parent, node):\n",
    "    # base case: in order to make the recursion terminate\n",
    "    if parent == None: parent = node\n",
    "    \n",
    "    # when parent is greather than node, it's should be a child to the left\n",
    "    if parent > node:\n",
    "        if not parent.left:\n",
    "            parent.left = node\n",
    "        else:\n",
    "            # recursion to the left\n",
    "            insert(parent.left, node)\n",
    "    # when parent is less than node, it's should be a child to the right\n",
    "    else:\n",
    "        if not parent.right:\n",
    "            parent.right = node\n",
    "        else:\n",
    "            # recursion to the right\n",
    "            insert(parent.right, node)"
   ]
  },
  {
   "cell_type": "code",
   "execution_count": null,
   "metadata": {
    "slideshow": {
     "slide_type": "fragment"
    }
   },
   "outputs": [],
   "source": [
    "\n",
    "root = Node(6)\n",
    "insert(root, Node(3))\n",
    "insert(root, Node(9))\n",
    "insert(root, Node(1))\n",
    "insert(root, Node(5))\n",
    "insert(root, Node(7))\n",
    "insert(root, Node(11))\n",
    "\n",
    "root.inorder"
   ]
  },
  {
   "cell_type": "markdown",
   "metadata": {
    "slideshow": {
     "slide_type": "slide"
    }
   },
   "source": [
    "## Binärträd\n",
    "\n",
    "<img src=\"https://miro.medium.com/max/1134/1*S9O9sNJQkfwFbtaji9e25w.png\" style=\"float:right\" width=\"33%\"/>\n",
    "\n",
    "__Viktiga definitioner:__\n",
    "* __Rot__ är den översta noden i trädet. Den pekas inte ut av någon annan nod.\n",
    "* __Löv__ är en nod vars bägge pekare är None.\n",
    "* __Nivå__ är det antal steg från roten noden befinner sig. Roten är på nivå noll.\n",
    "* __Höjd__ är den maximala nivån som nån av trädets noder befinner sig på.\n",
    "* __Balanserat__ är binärträdet om skillnaden i höjd mellan höger och vänster delträd till varje nod är noll eller ett.\n",
    "* __Fullt__ är binärträdet om alla noder utom löven har exakt två barn, och alla löv är på samma nivå."
   ]
  },
  {
   "cell_type": "markdown",
   "metadata": {
    "slideshow": {
     "slide_type": "slide"
    }
   },
   "source": [
    "# KAHOOT DAGS!"
   ]
  }
 ],
 "metadata": {
  "celltoolbar": "Slideshow",
  "kernelspec": {
   "display_name": "Python 3",
   "language": "python",
   "name": "python3"
  },
  "language_info": {
   "codemirror_mode": {
    "name": "ipython",
    "version": 3
   },
   "file_extension": ".py",
   "mimetype": "text/x-python",
   "name": "python",
   "nbconvert_exporter": "python",
   "pygments_lexer": "ipython3",
   "version": "3.9.0"
  }
 },
 "nbformat": 4,
 "nbformat_minor": 4
}
