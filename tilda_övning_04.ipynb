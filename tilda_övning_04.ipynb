{
 "cells": [
  {
   "cell_type": "markdown",
   "metadata": {
    "slideshow": {
     "slide_type": "slide"
    }
   },
   "source": [
    "## Övning 4\n",
    "__John Landeholt__\n",
    "\n",
    "johnlan@kth.se\n",
    "\n",
    "\n",
    "__agenda:__\n",
    "* Sortering (Lab 6)\n",
    "* Hashning (Lab 7)\n",
    "* Heap"
   ]
  },
  {
   "cell_type": "markdown",
   "metadata": {
    "slideshow": {
     "slide_type": "slide"
    }
   },
   "source": [
    "### Sortering\n",
    "\n",
    "<img src=\"https://blogs.cuit.columbia.edu/zp2130/files/2018/12/Merge_Sort.gif\" style=\"float:right\" width=\"33%\"/>\n",
    "\n",
    "I laboration 6 kommer vi pröva olika datastrukturers sökförmåga och sorteringsalgoritmer för att bekräfta deras `tidskomplexitet`.\n",
    "\n",
    "De mest kända sorteringsalgoritmerna är följande:\n",
    "* Quicksort $\\mathcal{O}(n\\log{n})$\n",
    "* Mergesort $\\mathcal{O}(n\\log{n})$\n",
    "* Counting sort $\\mathcal{O}(n+k)$\n",
    "\n",
    "När en lista är tillräckligt stor (säg 1M element), så spelar algoritmernas `tidskomplexitet` roll!\n",
    "\n",
    "__Exempel från lab 6__"
   ]
  },
  {
   "cell_type": "code",
   "execution_count": null,
   "metadata": {
    "slideshow": {
     "slide_type": "fragment"
    }
   },
   "outputs": [],
   "source": [
    "from shared import download_text, Song, timing\n",
    "import random\n",
    "songs = []\n",
    "for i, data in enumerate(download_text(\"http://www.csc.kth.se/~lk/unique_tracks.txt\")):\n",
    "    try:\n",
    "        track_id, song_id, artist, title = data.split('<SEP>')\n",
    "        songs.append(Song(track_id, song_id, artist, title))\n",
    "    except:\n",
    "        pass\n",
    "songs_sliced = songs[:250000]\n",
    "random_song = random.choice(songs_sliced)"
   ]
  },
  {
   "cell_type": "code",
   "execution_count": null,
   "metadata": {
    "slideshow": {
     "slide_type": "subslide"
    }
   },
   "outputs": [],
   "source": [
    "@timing\n",
    "def linear_search(songs_slice, search_song):\n",
    "    for s in songs:\n",
    "        if s == search_song:\n",
    "            return True\n",
    "    return False\n",
    "\n",
    "linear_search(songs_sliced, random_song)"
   ]
  },
  {
   "cell_type": "code",
   "execution_count": null,
   "metadata": {
    "slideshow": {
     "slide_type": "fragment"
    }
   },
   "outputs": [],
   "source": [
    "from shared import binary_search\n",
    "\n",
    "print(random_song)\n",
    "sorted_songs = sorted(songs_sliced)\n",
    "song = binary_search(sorted_songs, random_song)\n",
    "print(song)"
   ]
  },
  {
   "cell_type": "markdown",
   "metadata": {
    "slideshow": {
     "slide_type": "slide"
    }
   },
   "source": [
    "## Tentafråga\n",
    "### Tildatenta 1997-04-04 [5] Betyg C\n",
    "\n",
    "<img src=\"img/ö4i1.png\" />\n",
    "\n"
   ]
  },
  {
   "cell_type": "markdown",
   "metadata": {
    "slideshow": {
     "slide_type": "fragment"
    }
   },
   "source": [
    "__vilken information har vi?__\n",
    "* 1 miljon lotter\n",
    "* varav 1000 vinstlotter\n",
    "* lotterna är osorterade\n",
    "\n",
    "Sökningen sker alltid sekventiellt och linjärt. Dvs 1, 2, 3, 4.. n"
   ]
  },
  {
   "cell_type": "markdown",
   "metadata": {
    "slideshow": {
     "slide_type": "subslide"
    }
   },
   "source": [
    "### Lösning\n",
    "__osorterat__\n",
    "\n",
    "I __snitt__ måste därmed hälften av listan gås igenom för en slumpmässigt vald lott.\n",
    "\n",
    "Detta gör att det kommer krävas $\\frac{1}{2} \\cdot lotter = 0.5$ miljoner sökningar för varje slumpad lott.\n",
    "\n",
    "Vilket resulterar i att det krävs $\\text{vinstlotter} \\cdot \\frac{1}{2} \\cdot lotter = 500$ miljoner jämförelser osorterat.\n",
    "\n",
    "__sorterat__\n",
    "\n",
    "Allt som krävs är att vi hittar en sorteringsalgoritm som är lägre än 500 miljoner jämförelser när $n = \\text{lotter}$\n",
    "\n",
    "`Mergesort` har en tidskomplexitet på $\\mathcal{O}(n\\log{n})$, så vi prövar att ansätta $n = 1M$\n",
    "\n",
    "$\\text{lotter} \\cdot \\log_{2}{\\text{lotter}} = 20$ miljoner jämförelser.\n",
    "\n",
    "Efter sorteringen kan vi sedan använda oss utav `binärsökning` $\\mathcal{O}(\\log{n})$ som resulterar i:\n",
    "\n",
    "$\\text{vinstlotter} \\cdot \\log_{2}{\\text{lotter}} = 20000$ jämförelser.\n",
    "\n",
    "Vi har därmed visat att det lönar sig att sortera. Vi sänkte antalet jämförelser med 2375%."
   ]
  },
  {
   "cell_type": "markdown",
   "metadata": {
    "slideshow": {
     "slide_type": "slide"
    }
   },
   "source": [
    "### Hashning\n",
    "\n",
    "Visste ni att extremt mycket av pythons struktur bygger på __dictionaries__ som använder sig utav tekniken `hashning`?"
   ]
  },
  {
   "cell_type": "code",
   "execution_count": null,
   "metadata": {
    "slideshow": {
     "slide_type": "fragment"
    }
   },
   "outputs": [],
   "source": [
    "items = 5\n",
    "for k,v in str.__dict__.items():\n",
    "    print(k, v)\n",
    "    items -= 1\n",
    "    if items == 0: break"
   ]
  },
  {
   "cell_type": "markdown",
   "metadata": {
    "slideshow": {
     "slide_type": "fragment"
    }
   },
   "source": [
    "__varför?__\n",
    "\n",
    "Dictionaries är en typ av `hash table`. Hash tables är extremt snabba att söka i. Tidskomplexiteten är $\\mathcal{O}(1)$ för __sökning__, __insättning__ och __borttagning__.\n",
    "\n",
    "Att __accessa__ ett element i en dictionary vet man inte dens tidskomplexitet, eftersom olika hash tabeller har också olika `hashfunktioner`. Men det är i närheten av __konstant__ tid."
   ]
  },
  {
   "cell_type": "markdown",
   "metadata": {
    "slideshow": {
     "slide_type": "slide"
    }
   },
   "source": [
    "### Hashning\n",
    "\n",
    "__hur?__\n",
    "\n",
    "Vi vet sen tidigare att datastrukturen `array` har en __konstant__ access tid, men att den också har indexering, som gör det svårt att få en bra koppling till vad som finns vart.\n",
    "\n",
    "En `hashfunktion` eliminerar detta genom att den __hashar__ en nyckel som sedan blir indexet i `arrayen` där nyckelns värde-par lagras.\n",
    "\n",
    "__vad är hashning?__\n",
    "\n",
    "Hashning är en teknik där man __transformerar__ ett abstrakt objekt till en sifferrepresentation."
   ]
  },
  {
   "cell_type": "code",
   "execution_count": null,
   "metadata": {
    "slideshow": {
     "slide_type": "fragment"
    }
   },
   "outputs": [],
   "source": [
    "print('a', '>', ord('a'))\n",
    "print('b', '>', ord('b'))"
   ]
  },
  {
   "cell_type": "markdown",
   "metadata": {
    "slideshow": {
     "slide_type": "subslide"
    }
   },
   "source": [
    "### Hashning\n",
    "__hur gör python?__\n",
    "\n",
    "Nästan varje objekt/klasstyp i python har en `magicmethod` som heter __hash__ som berättar för t.ex dictionary-klassen hur objektet ska representeras som en siffra genom funktionen `hash()`\n",
    "\n",
    "Men för denna kurs är det okej att göra en __generell__ hashfunktion, som går igenom tecken för tecken och tar reda på dess ascii-värde `ord()`, och sedan viktar det med någon 2-potens. T.ex 32."
   ]
  },
  {
   "cell_type": "code",
   "execution_count": null,
   "metadata": {
    "slideshow": {
     "slide_type": "fragment"
    }
   },
   "outputs": [],
   "source": [
    "def hasher(key):\n",
    "    r = 0\n",
    "    for char in str(key):\n",
    "        r = r*32 + ord(char)\n",
    "    return r\n",
    "\n",
    "key = \"john\"\n",
    "# Own implementation\n",
    "print(hasher(key))\n",
    "# builtin\n",
    "print(hash(key))"
   ]
  },
  {
   "cell_type": "markdown",
   "metadata": {
    "slideshow": {
     "slide_type": "fragment"
    }
   },
   "source": [
    "__fun fact__\n",
    "\n",
    "Pythons hash-funktion är inte perfekt."
   ]
  },
  {
   "cell_type": "code",
   "execution_count": null,
   "metadata": {
    "slideshow": {
     "slide_type": "fragment"
    }
   },
   "outputs": [],
   "source": [
    "#builtin\n",
    "print(hash(-1) == hash(-2))\n",
    "# own implementation: it has other flaws..\n",
    "print(hasher(-1) == hasher(-2))"
   ]
  },
  {
   "cell_type": "markdown",
   "metadata": {
    "slideshow": {
     "slide_type": "slide"
    }
   },
   "source": [
    "### Hashning\n",
    "\n",
    "Skelettkod till en hashtabell\n",
    "\n",
    "[Github](https://github.com/landeholt/tilda/blob/main/skeleton-code/hash_table.py)"
   ]
  },
  {
   "cell_type": "code",
   "execution_count": null,
   "metadata": {
    "slideshow": {
     "slide_type": "fragment"
    }
   },
   "outputs": [],
   "source": [
    "class Hash_node:\n",
    "    def __init__(self, key = None, data = None):\n",
    "        self.key = key\n",
    "        self.data = data\n",
    "    def __repr__(self):\n",
    "        return f'<hash_node containing {self.data}>'\n",
    "\n",
    "class Hash_table:\n",
    "    def __init__(self, size = 100):\n",
    "        \"\"\"size dictates the size of the array (bucket)\"\"\"\n",
    "        # YOUR CODE HERE\n",
    "        pass\n",
    "    \n",
    "    def __setitem__(self, key, value):\n",
    "        \"\"\"\n",
    "        usage:\n",
    "        h = Hash_table()\n",
    "        h['key'] = 'value'\n",
    "        \"\"\"\n",
    "        # YOUR CODE HERE\n",
    "        pass\n",
    "    def __contains__(self, key):\n",
    "        \"\"\"\n",
    "        usage:\n",
    "        h = Hash_table()\n",
    "        if 'key' in h:\n",
    "            print('\"key\" exists in h')\n",
    "        \"\"\"\n",
    "        try:\n",
    "            # YOUR CODE HERE\n",
    "            return None\n",
    "        except:\n",
    "            raise KeyError\n",
    "    @staticmethod\n",
    "    def _hash(key):\n",
    "        \"\"\"Creates a number from the given key\"\"\"\n",
    "        r = 0\n",
    "        for char in str(key):\n",
    "            r = r*32 + ord(char)\n",
    "        return r\n",
    "        "
   ]
  },
  {
   "cell_type": "code",
   "execution_count": null,
   "metadata": {
    "slideshow": {
     "slide_type": "subslide"
    }
   },
   "outputs": [],
   "source": [
    "from shared import Hash_table as ht\n",
    "\n",
    "h = ht(size=20)\n",
    "h['john landeholt'] = 'johnlan@kth.se'\n",
    "h['linda kann'] = 'lk@kth.se'\n",
    "h['sten andersson'] = 'stene@kth.se'\n",
    "\n",
    "if 'john landeholt' in h:\n",
    "    print(h['john landeholt'])\n",
    "if 'Barack Obama' in h:\n",
    "    print(h['Barack Obama'])"
   ]
  },
  {
   "cell_type": "code",
   "execution_count": null,
   "metadata": {
    "slideshow": {
     "slide_type": "fragment"
    }
   },
   "outputs": [],
   "source": [
    "print(h)\n",
    "print(h.get_bucket())"
   ]
  },
  {
   "cell_type": "markdown",
   "metadata": {
    "slideshow": {
     "slide_type": "slide"
    }
   },
   "source": [
    "### Heap\n",
    "\n",
    "<img src=\"https://i.imgur.com/1mghTRv.png\" style=\"float:right\" width=\"33%\"/>\n",
    "\n",
    "__vad är en heap?__\n",
    "\n",
    "Det är en datastruktur som är en påbyggnad av `binärträdet`. Där roten alltid är trädets __högsta__ eller __lägsta__ `prioriterade` nod.\n",
    "\n",
    ">__Notera__: en heap är inte sorterad per definition, utan det ända som säkerställs är att roten alltid är den med __högst__ eller __lägst__ `prioritet`.\n",
    "\n",
    "__när är en heap användbar?__\n",
    "\n",
    "I situationer där någon form av `prioritet` finns. För då ger heap-datastrukturen möjligheten att hämta noden med bäst `prioritet` på $\\mathcal{O}(1)$ tid.\n",
    "\n",
    "__exempel__\n",
    "* Vaccinering av corona\n",
    "* ELO-game matchmaking (League of Legends, CSGO, Overwatch m.m)\n",
    "* Load balancing (web-servrar)\n",
    "* A* Search Algorithm (DD2380)\n",
    "* Huffman encoding (DD1320)\n",
    "* Dijkstra's Algoritm [Bästaförstsökning] (DD1320)"
   ]
  },
  {
   "cell_type": "markdown",
   "metadata": {
    "slideshow": {
     "slide_type": "subslide"
    }
   },
   "source": [
    "### Heap\n",
    "\n",
    "Skelettkod till en heap\n",
    "\n",
    "[Github](https://github.com/landeholt/tilda/blob/main/skeleton-code/heap.py)\n",
    "\n",
    "Skelettkoden är för stor för att vara på slidesen, men finns på min github @landeholt"
   ]
  },
  {
   "cell_type": "code",
   "execution_count": null,
   "metadata": {
    "slideshow": {
     "slide_type": "fragment"
    }
   },
   "outputs": [],
   "source": [
    "import operator\n",
    "from shared import Heap\n",
    "\n",
    "class Max_heap(Heap):\n",
    "    def __init__(self, max_size = 500):\n",
    "        compare = operator.gt\n",
    "        super().__init__(max_size = max_size, compare= compare)\n",
    "\n",
    "class Min_heap(Heap):\n",
    "    def __init__(self, max_size = 500):\n",
    "        compare = operator.lt\n",
    "        super().__init__(max_size = max_size, compare= compare)"
   ]
  },
  {
   "cell_type": "code",
   "execution_count": null,
   "metadata": {
    "slideshow": {
     "slide_type": "subslide"
    }
   },
   "outputs": [],
   "source": [
    "class Human:\n",
    "    def __init__(self, name, age, work = None):\n",
    "        self.name = name\n",
    "        self.age = age\n",
    "        self.work = work\n",
    "        \n",
    "    def __gt__(self, other):\n",
    "        important_jobs = ['nurse', 'doctor']\n",
    "        self_priority = self.age\n",
    "        other_priority = other.age\n",
    "        # random heuristic\n",
    "        if self.work in important_jobs:\n",
    "            self_priority += 40\n",
    "        if other.work in important_jobs:\n",
    "            other_priority += 40\n",
    "        return self_priority > other_priority\n",
    "    \n",
    "    def __repr__(self):\n",
    "        return f'<Human {self.name} {self.age}{\" \" + self.work if self.work != None else \"\"}>'\n",
    "\n",
    "humans = [\n",
    "    Human('John Landeholt', 25, 'TA'), \n",
    "    Human('Anders Tegnell', 64, 'doctor'), \n",
    "    Human('Maria Karlsson Osipova', 27, 'nurse'),\n",
    "    Human('Liam Arenblad', 3)]\n",
    "\n",
    "vaccinate_queue = Max_heap()\n",
    "vaccinate_queue.build(humans)\n",
    "\n",
    "while not vaccinate_queue.empty:\n",
    "    print(vaccinate_queue.pop())\n"
   ]
  },
  {
   "cell_type": "markdown",
   "metadata": {
    "slideshow": {
     "slide_type": "slide"
    }
   },
   "source": [
    "## KAHOOT DAGS!"
   ]
  },
  {
   "cell_type": "code",
   "execution_count": null,
   "metadata": {},
   "outputs": [],
   "source": []
  }
 ],
 "metadata": {
  "celltoolbar": "Slideshow",
  "kernelspec": {
   "display_name": "Python 3",
   "language": "python",
   "name": "python3"
  },
  "language_info": {
   "codemirror_mode": {
    "name": "ipython",
    "version": 3
   },
   "file_extension": ".py",
   "mimetype": "text/x-python",
   "name": "python",
   "nbconvert_exporter": "python",
   "pygments_lexer": "ipython3",
   "version": "3.9.0"
  }
 },
 "nbformat": 4,
 "nbformat_minor": 4
}
