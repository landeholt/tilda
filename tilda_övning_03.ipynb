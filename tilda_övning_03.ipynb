{
 "cells": [
  {
   "cell_type": "markdown",
   "metadata": {
    "slideshow": {
     "slide_type": "slide"
    }
   },
   "source": [
    "## Övning 3\n",
    "__John Landeholt__\n",
    "\n",
    "johnlan@kth.se\n",
    "\n",
    "\n",
    "__agenda:__\n",
    "* Kunna beskriva en `graf` som grannmatris och grannlista\n",
    "* Breddenförst- vs djupetförstsökning (Lab 4, 5)"
   ]
  },
  {
   "cell_type": "markdown",
   "metadata": {
    "slideshow": {
     "slide_type": "slide"
    }
   },
   "source": [
    "## Grannmatris och grannlistor\n",
    "\n",
    "<img src=\"https://media.geeksforgeeks.org/wp-content/uploads/SIMPLE-GRAPH.jpg\" style=\"float:right\" width=\"33%\"/>\n",
    "\n",
    "Är olika datastrukturer som man kan representera en graf som.\n",
    "\n",
    "__skillnader__:\n",
    "\n",
    "Om minne inte är ett problem, så är `grannmatriser` absolut snabbast. Det tar $\\mathcal{O}(1)$ accessa nodens innehåll.\n",
    "\n",
    "Om grafen är ständigt växande, så är `grannlistor` effektivast. Det tar $\\mathcal{O}(1)$ att lägga till en nod till en `länkad lista`"
   ]
  },
  {
   "cell_type": "markdown",
   "metadata": {
    "slideshow": {
     "slide_type": "fragment"
    }
   },
   "source": [
    "### Grafrepresentation som grannmatris\n",
    "\n",
    "Representationen brukar göras i form av 1:or och 0:or. Där en 1:a betyder att det finns ett `hörn` mellan `kanterna` \n",
    "\n",
    "|   |A  |  B|  C|  D|E  |  F|\n",
    "|---|---|---|---|---|---|---|\n",
    "|__A__  |0  |__1__  |0  |__1__  |__1__  |0  |\n",
    "|__B__  |__1__  |0  |__1__  |0  |0  |0  |\n",
    "|__C__  |0  |__1__  |0  |0  |__1__  |__1__  |\n",
    "|__D__  |__1__  |0  |0  |0  |__1__  |0  |\n",
    "|__E__  |__1__  |0  |__1__  |__1__  |0  |__1__  |\n",
    "|__F__  |0  |0  |__1__  |0  |__1__  |0  |"
   ]
  },
  {
   "cell_type": "markdown",
   "metadata": {
    "slideshow": {
     "slide_type": "subslide"
    }
   },
   "source": [
    "### Grafrepresentation som grannlista\n",
    "\n",
    "<img src=\"https://media.geeksforgeeks.org/wp-content/uploads/SIMPLE-GRAPH.jpg\" style=\"float:right\" width=\"33%\"/>\n",
    "\n",
    "Representationen görs med `länkade listor`. Om det finns ett `hörn` mellan `kanterna`, så indikerar man det med att kanterna finns i varandras `länkade listor`"
   ]
  },
  {
   "cell_type": "code",
   "execution_count": 1,
   "metadata": {
    "slideshow": {
     "slide_type": "fragment"
    }
   },
   "outputs": [
    {
     "name": "stdout",
     "output_type": "stream",
     "text": [
      "A --> E B D\n",
      "B --> A C\n",
      "C --> B E F\n",
      "D --> A E\n",
      "E --> A C D F\n",
      "F --> C E\n"
     ]
    }
   ],
   "source": [
    "def show_adjency_list(edges):\n",
    "    for v, e in edges.items():\n",
    "        print(v, '-->', ' '.join(e))\n",
    "        \n",
    "edges = {\n",
    "    'A': ['E','B','D'],\n",
    "    'B': ['A', 'C'],\n",
    "    'C': ['B', 'E', 'F'],\n",
    "    'D': ['A', 'E'],\n",
    "    'E': ['A', 'C', 'D', 'F'],\n",
    "    'F': ['C', 'E']}\n",
    "\n",
    "show_adjency_list(edges)"
   ]
  },
  {
   "cell_type": "markdown",
   "metadata": {
    "slideshow": {
     "slide_type": "slide"
    }
   },
   "source": [
    "## Vad är en graf?\n",
    "\n",
    "En graf är en `datastruktur` där en relation (tänk koppling) mellan olika `kanter` (noder) existerar.\n",
    "\n",
    "En relation är ett `hörn` (edge på engelska) och kan vara riktad (A -> B)\n",
    "\n",
    "### Exempel på abstrakta grafer:\n",
    "* Kö\n",
    "* Stack\n",
    "* Länkad lista\n",
    "* Binärträd\n",
    "* Problemträd\n",
    "* m.m"
   ]
  },
  {
   "cell_type": "markdown",
   "metadata": {
    "slideshow": {
     "slide_type": "subslide"
    }
   },
   "source": [
    "## Vad används grafer till?\n",
    "\n",
    "* Hitta kortaste stigen (breddenförstsökning)\n",
    "    * Lab 4,5 (DD1320)\n",
    "    * Matchningsproblem [Tinder] (DD2350)\n",
    "* Hitta ett bästa beslut för ett problem (djupetförstsökning)\n",
    "    * ORD-GENERERING (DD1320, DD1418)\n",
    "    * MIN-MAX-ALGORITHM för bästa schack-drags-strategin (DD2380)"
   ]
  },
  {
   "cell_type": "markdown",
   "metadata": {
    "slideshow": {
     "slide_type": "slide"
    }
   },
   "source": [
    "### Breddenförstsökning\n",
    "\n",
    "<img src=\"https://miro.medium.com/max/640/0*miG6xdyYzdvrB67S.gif\" style=\"float:right\" width=\"33%\"/>\n",
    "\n",
    "__Hur fungerar det?__\n",
    "\n",
    "Man börjar från roten och går igenom alla noderna nivå för nivå. Om man hittar en sökt nod så `traversar` man vidare ner i trädet och kollar på den nivån och fortsätter tills man hittat slutnoden.\n",
    "\n",
    "__Vad behövs?__\n",
    "\n",
    "* En kö\n",
    "* Ett (binär)träd eller annan form av snabbt __sökbar__ och __kopplad__ datastruktur\n"
   ]
  },
  {
   "cell_type": "code",
   "execution_count": 2,
   "metadata": {
    "slideshow": {
     "slide_type": "fragment"
    }
   },
   "outputs": [
    {
     "name": "stdout",
     "output_type": "stream",
     "text": [
      "Det finns en stig till bär\n",
      "löt > göt > gör > bör > bär\n"
     ]
    }
   ],
   "source": [
    "# Lab 4 & 5 done with dictionaries as the searchable datastructure.\n",
    "# Cannot be used for lab 4 and lab 5, because it needs to a be binary tree.\n",
    "from shared import get_words, find_path, get_path\n",
    "from queue import Queue\n",
    "\n",
    "# Lab 4\n",
    "swedish_words = get_words()\n",
    "q = Queue()\n",
    "d = dict()\n",
    "start, end = 'löt', 'bär'\n",
    "\n",
    "q.put(start)\n",
    "while not q.empty():\n",
    "    find_path(end, q, swedish_words, d)\n",
    "\n",
    "# Lab 5\n",
    "path = get_path(start, end, d)\n",
    "print(f'{\" > \".join(path)}')"
   ]
  },
  {
   "cell_type": "markdown",
   "metadata": {
    "slideshow": {
     "slide_type": "slide"
    }
   },
   "source": [
    "### Djupetförstsökning\n",
    "\n",
    "<img src=\"https://miro.medium.com/max/640/0*miG6xdyYzdvrB67S.gif\" style=\"float:right\" width=\"33%\"/>\n",
    "\n",
    "__Hur fungerar det?__\n",
    "\n",
    "Man börjar från roten och går igenom en gren åt gången. Om man hittar en sökt nod, så `traversar` man vidare tills noden blir ett `löv` eller sökt nod inte finns i trädet.\n",
    "\n",
    "__Vad behövs?__\n",
    "\n",
    "* En Stack\n",
    "* Ett (binär)träd eller annan form av snabbt __sökbar__ och __kopplad__ datastruktur"
   ]
  },
  {
   "cell_type": "code",
   "execution_count": 3,
   "metadata": {
    "slideshow": {
     "slide_type": "fragment"
    }
   },
   "outputs": [
    {
     "name": "stdout",
     "output_type": "stream",
     "text": [
      "Building tree..\n",
      "Downloaded 221599 words..\n",
      "Picked 221599 words to build tree with..\n",
      "Longest keyword found in tree: modernastes\n"
     ]
    }
   ],
   "source": [
    "from shared import build_tree, swedish_alphabet\n",
    "\n",
    "swedish_words = build_tree()\n",
    "record = \"\"\n",
    "\n",
    "def find_keywords(word = \"\"):\n",
    "    global record\n",
    "    if len(word) > len(record):\n",
    "        record = word\n",
    "    for char in swedish_alphabet + '-':\n",
    "        new_word = word + char\n",
    "        if new_word in swedish_words:\n",
    "            find_keywords(new_word)\n",
    "\n",
    "find_keywords()\n",
    "print(\"Longest keyword found in tree:\", record)"
   ]
  },
  {
   "cell_type": "markdown",
   "metadata": {
    "slideshow": {
     "slide_type": "slide"
    }
   },
   "source": [
    "# KAHOOT DAGS!"
   ]
  }
 ],
 "metadata": {
  "celltoolbar": "Slideshow",
  "kernelspec": {
   "display_name": "Python 3",
   "language": "python",
   "name": "python3"
  },
  "language_info": {
   "codemirror_mode": {
    "name": "ipython",
    "version": 3
   },
   "file_extension": ".py",
   "mimetype": "text/x-python",
   "name": "python",
   "nbconvert_exporter": "python",
   "pygments_lexer": "ipython3",
   "version": "3.9.0"
  }
 },
 "nbformat": 4,
 "nbformat_minor": 4
}
