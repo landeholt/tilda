{
 "cells": [
  {
   "cell_type": "markdown",
   "metadata": {
    "slideshow": {
     "slide_type": "slide"
    }
   },
   "source": [
    "## Övning 6\n",
    "__John Landeholt__\n",
    "\n",
    "johnlan@kth.se\n",
    "\n",
    "\n",
    "__agenda:__\n",
    "\n",
    "* hammingavstånd\n",
    "* komprimering\n",
    "* kryptering"
   ]
  },
  {
   "cell_type": "markdown",
   "metadata": {
    "slideshow": {
     "slide_type": "slide"
    }
   },
   "source": [
    "__Hammingavstånd__\n",
    "\n",
    "Är inte en komprimeringsalgoritm, utan ett sätt att avgöra mellan två strängar av samma storlek det minsta antalet substitutioner som krävs för att omvandla $s_1$ till $s_2$. Detta kallas även första minsta felkorrigeringen möjligt mellan två strängar."
   ]
  },
  {
   "cell_type": "code",
   "execution_count": 28,
   "metadata": {
    "slideshow": {
     "slide_type": "fragment"
    }
   },
   "outputs": [
    {
     "data": {
      "text/plain": [
       "1"
      ]
     },
     "execution_count": 28,
     "metadata": {},
     "output_type": "execute_result"
    }
   ],
   "source": [
    "def hamming_distance(s1,s2):\n",
    "    return sum(xi != yi for xi, yi in zip(s1, s2))\n",
    "\n",
    "hamming_distance('Tilda', 'Milda')"
   ]
  },
  {
   "cell_type": "markdown",
   "metadata": {
    "slideshow": {
     "slide_type": "subslide"
    }
   },
   "source": [
    "__Tentafråga 2019-03-13 [6] E__\n",
    "\n",
    "Givet en teckentabell med deras decimaltal och motsvarande binärtal\n",
    "\n",
    "    A 65 1000001\n",
    "    B 66 1000010\n",
    "    C 67 1000011\n",
    "    ...\n",
    "    a 97 1100001\n",
    "    b 98 1100010\n",
    "    c 99 1100011\n",
    "    ...\n",
    "\n",
    "Fråga. Vad är minsta hammingavståndet för de __binära koderna__ i hela teckentabellen"
   ]
  },
  {
   "cell_type": "markdown",
   "metadata": {
    "slideshow": {
     "slide_type": "fragment"
    }
   },
   "source": [
    "__Lösningsförslag__\n",
    "\n",
    "Det är enkelt att se att __minsta__ avståndet måste vara __1__. A -> B till exempel.\n"
   ]
  },
  {
   "cell_type": "markdown",
   "metadata": {
    "slideshow": {
     "slide_type": "slide"
    }
   },
   "source": [
    "### Komprimering\n",
    "\n",
    "Det finns två sorters komprimering:\n",
    "\n",
    "* non-lossy compression - konverterar data\n",
    "* lossy compression - tar bort data\n",
    "\n",
    "__Följdlängdskodning__\n",
    "\n",
    "Är en av de mer intuitiva kompressionsalgoritmerna, som minimerar följder av samma tecken genom att eliminera alla dubbletter och istället spara antalet som en siffra.\n",
    "\n",
    "Men är inte så värst användbar i verkligenheten, då texter inte brukar innehålla långa följder av samma tecken."
   ]
  },
  {
   "cell_type": "code",
   "execution_count": 1,
   "metadata": {
    "slideshow": {
     "slide_type": "fragment"
    }
   },
   "outputs": [],
   "source": [
    "from sys import getsizeof\n",
    "\n",
    "def comp_rate(text,encoding):\n",
    "    before = getsizeof(text)\n",
    "    after = getsizeof(encoding)\n",
    "    return (before - after) / after * 100\n",
    "\n",
    "def rle_encoding(text):\n",
    "    encoding = ''\n",
    "    prev = ''\n",
    "    count = 1\n",
    "    for c in text:\n",
    "        if c != prev:\n",
    "            if prev:\n",
    "                if count == 1:\n",
    "                    encoding += prev\n",
    "                else:\n",
    "                    encoding += str(count) + prev\n",
    "            count = 1\n",
    "            prev = c\n",
    "        else:\n",
    "            count += 1\n",
    "    encoding += str(count) + prev\n",
    "    \n",
    "    \n",
    "    rate = comp_rate(text,encoding)\n",
    "    print(f'compressed input with {round(rate, 2)}%')\n",
    "    return encoding\n",
    "\n",
    "encoding = rle_encoding('ÅÅÅÅH! JAAAAAAA! AAAAAAAAAAAAH.')\n",
    "print(encoding)"
   ]
  },
  {
   "cell_type": "code",
   "execution_count": 2,
   "metadata": {
    "slideshow": {
     "slide_type": "subslide"
    }
   },
   "outputs": [],
   "source": [
    "def rle_decoding(encoding):\n",
    "    decoding = ''\n",
    "    count = ''\n",
    "    for c in encoding:\n",
    "        if c.isnumeric():\n",
    "            count += c\n",
    "        else:\n",
    "            if count == '':\n",
    "                decoding += c\n",
    "            else:\n",
    "                decoding += int(count) * c\n",
    "                count = ''\n",
    "    return decoding\n",
    "text = rle_decoding(encoding)\n",
    "print(text)"
   ]
  },
  {
   "cell_type": "markdown",
   "metadata": {
    "slideshow": {
     "slide_type": "slide"
    }
   },
   "source": [
    "__Huffmankodning__\n",
    "\n",
    "<img src=\"img/huffman.png\" style=\"float:right\" />\n",
    "\n",
    "Går ut på att __räkna__ hur vanliga tecken är i en text. Där det tecknet med högst frekvens får kortast binärkod.\n",
    "\n",
    "Man börjar med att räkna frekvensen av alla tecken i texten, sedan placerar du det i en prioritetskö, där den med högst prioritet har minst sannolikhet (en min-heap).\n",
    "\n",
    "Sedan för varje par i kön så samlar du alla __0__ för det vänstra paret och __1__ för det högra paret, tills det endast finns ett par i kön, vilket kommer att vara roten som har sannolikheten __1__.\n",
    "\n",
    "Detta innebär att du alltså börjar med löven i trädet och bygger dig upp för varje par.\n",
    "\n",
    "På bilden ser vi att paret __(R,G)__ summeras upp till __2__ för att sedan i nästa loop bli till paret __(I, (R,G))__ vars summa är __4__ osv..\n",
    "\n",
    "Sedan traversar man trädet igen och plockar med sig kodningen, som för __G__ blir __0111__\n",
    "\n",
    "> __notera__: huffmankodning är endast non-lossy om `frekvenstabellen` sparas. Annars är den lossy."
   ]
  },
  {
   "cell_type": "code",
   "execution_count": 2,
   "metadata": {
    "slideshow": {
     "slide_type": "fragment"
    }
   },
   "outputs": [
    {
     "name": "stdout",
     "output_type": "stream",
     "text": [
      "\u001b[31m{\u001b[0mG: None\u001b[31m}\u001b[0m: 1 \u001b[31m{\u001b[0m!: None\u001b[31m}\u001b[0m: 2 \u001b[31m{\u001b[0mR: None\u001b[31m}\u001b[0m: 1 \u001b[31m{\u001b[0mI: None\u001b[31m}\u001b[0m: 6 \u001b[31m{\u001b[0mH: None\u001b[31m}\u001b[0m: 4 \u001b[31m{\u001b[0mA: None\u001b[31m}\u001b[0m: 3 \u001b[31m{\u001b[0m.: None\u001b[31m}\u001b[0m: 3 \n",
      "\u001b[31m{\u001b[0mG: 0, R: 1\u001b[31m}\u001b[0m: 2 \u001b[31m{\u001b[0m.: None\u001b[31m}\u001b[0m: 3 \u001b[31m{\u001b[0m!: None\u001b[31m}\u001b[0m: 2 \u001b[31m{\u001b[0mI: None\u001b[31m}\u001b[0m: 6 \u001b[31m{\u001b[0mH: None\u001b[31m}\u001b[0m: 4 \u001b[31m{\u001b[0mA: None\u001b[31m}\u001b[0m: 3 \n",
      "\u001b[31m{\u001b[0mA: None\u001b[31m}\u001b[0m: 3 \u001b[31m{\u001b[0m.: None\u001b[31m}\u001b[0m: 3 \u001b[31m{\u001b[0mH: None\u001b[31m}\u001b[0m: 4 \u001b[31m{\u001b[0mI: None\u001b[31m}\u001b[0m: 6 \u001b[31m{\u001b[0mG: 00, R: 01, !: 1\u001b[31m}\u001b[0m: 4 \n",
      "\u001b[31m{\u001b[0mH: None\u001b[31m}\u001b[0m: 4 \u001b[31m{\u001b[0mG: 00, R: 01, !: 1\u001b[31m}\u001b[0m: 4 \u001b[31m{\u001b[0mI: None\u001b[31m}\u001b[0m: 6 \u001b[31m{\u001b[0mA: 0, .: 1\u001b[31m}\u001b[0m: 6 \n",
      "\u001b[31m{\u001b[0mA: 0, .: 1\u001b[31m}\u001b[0m: 6 \u001b[31m{\u001b[0mI: None\u001b[31m}\u001b[0m: 6 \u001b[31m{\u001b[0mH: 0, G: 100, R: 101, !: 11\u001b[31m}\u001b[0m: 8 \n",
      "\u001b[31m{\u001b[0mH: 0, G: 100, R: 101, !: 11\u001b[31m}\u001b[0m: 8 \u001b[31m{\u001b[0mA: 00, .: 01, I: 1\u001b[31m}\u001b[0m: 12 \n",
      "\u001b[31m{\u001b[0mH: 00, G: 0100, R: 0101, !: 011, A: 100, .: 101, I: 11\u001b[31m}\u001b[0m: 20 \n",
      "00 100 00 100 011 11 11 11 11 11 11 00 011 100 00 0101 0100 101 101 101\n"
     ]
    }
   ],
   "source": [
    "from shared import Min_heap, Huffman_node\n",
    "from collections import defaultdict\n",
    "from time import sleep\n",
    "\n",
    "def print_heap(heap):\n",
    "    for n in heap.array[1:]:\n",
    "        print(n, end= ' ')\n",
    "    print()\n",
    "        \n",
    "def huffman_encode(text):\n",
    "    freq = defaultdict(int)\n",
    "    heap = Min_heap()\n",
    "    \n",
    "    for c in text: freq[c] += 1\n",
    "    for k,v in freq.items(): heap.insert(Huffman_node(k,v))\n",
    "    while len(heap) > 1:\n",
    "        print_heap(heap)\n",
    "        left, right = heap.pop(), heap.pop()\n",
    "        for p in left.pairs: p += '0'\n",
    "        for p in right.pairs: p += '1'\n",
    "        n = Huffman_node.merge(left, right)\n",
    "        heap.insert(n)\n",
    "        sleep(3)\n",
    "    print_heap(heap)\n",
    "    encoding = ''\n",
    "    node = heap.pop()\n",
    "    for c in text:\n",
    "        code = node[c]\n",
    "        if code:\n",
    "            encoding += code + ' '\n",
    "    return encoding[:-1], freq\n",
    "\n",
    "encoding, freq = huffman_encode('HAHA!IIIIIIH!AHRG...')\n",
    "print(encoding)"
   ]
  },
  {
   "cell_type": "code",
   "execution_count": 3,
   "metadata": {
    "slideshow": {
     "slide_type": "subslide"
    }
   },
   "outputs": [
    {
     "data": {
      "text/plain": [
       "'HAHA!IIIIIIH!AHRG...'"
      ]
     },
     "execution_count": 3,
     "metadata": {},
     "output_type": "execute_result"
    }
   ],
   "source": [
    "from shared import huffman_decode\n",
    "huffman_decode(encoding, freq)"
   ]
  },
  {
   "cell_type": "markdown",
   "metadata": {
    "slideshow": {
     "slide_type": "subslide"
    }
   },
   "source": [
    "### Huffmankodning\n",
    "\n",
    "__Hur gör vi det för hand?__\n",
    "\n",
    "Vi prövar med stringen \"man är mans gamman\".\n",
    "\n",
    "Steg:\n",
    "\n",
    "1. Beräkna frekvensen för alla tecken\n",
    "2. Sortera så att det tecknet med minst frekvens är först\n",
    "3. Placera dem i en kö så att det är minst -> störst\n",
    "4. poppa kön 2 gånger, summera frekvenserna för paret ge första tecknet en __0__ och andra en __1__\n",
    "5. pusha paret in i kön igen\n",
    "6. repetera punkt 4-5 tills det endast finns en nod i kön.\n",
    "\n",
    "[länk till hela processen](http://www.umsl.edu/~siegelj/information_theory/codes/huffman.html)"
   ]
  },
  {
   "cell_type": "markdown",
   "metadata": {
    "slideshow": {
     "slide_type": "slide"
    }
   },
   "source": [
    "__Lempel-Ziv__\n",
    "\n",
    "<img src=\"https://media.emailonacid.com/wp-content/uploads/2019/03/2019-GifsInEmail.gif\" style=\"float:right\" />\n",
    "\n",
    "Går ut på att man bygger upp strängar i en tabell, sådan att det finns en kod för varje tecken och påbyggnader av de redan existerande tecknen i tabellen.\n",
    "\n",
    "Lempel-Ziv är en av de mest användna `komprimeringsalgoritmerna` som används i Linux (unix), gifs, zip m.m. Likt tidigare algoritmer, så är denna också `non-lossy`."
   ]
  },
  {
   "cell_type": "code",
   "execution_count": 27,
   "metadata": {
    "slideshow": {
     "slide_type": "subslide"
    }
   },
   "outputs": [
    {
     "name": "stdout",
     "output_type": "stream",
     "text": [
      "NÄS2NUV3OR6K\n"
     ]
    }
   ],
   "source": [
    "def lzw_encode(data):\n",
    "    table = {}\n",
    "    encoding = ''\n",
    "    s = ''\n",
    "    for c in data:\n",
    "        _next = s + str(c)\n",
    "        if _next in table:\n",
    "            s = _next\n",
    "        else:\n",
    "            try:\n",
    "                code = str(table[s])\n",
    "            except:\n",
    "                code = ''\n",
    "            finally:\n",
    "                encoding += code + c\n",
    "            \n",
    "            table[_next] = len(table)\n",
    "            s = ''\n",
    "    if s in table:\n",
    "        encoding += str(table[s])\n",
    "    return encoding, table\n",
    "\n",
    "encoding, table = lzw_encode('NÄSSNUVSNORSNOK')\n",
    "print(encoding)"
   ]
  },
  {
   "cell_type": "markdown",
   "metadata": {
    "slideshow": {
     "slide_type": "slide"
    }
   },
   "source": [
    "### Kryptering\n",
    "\n",
    "Det finns en hel rös av olika krypteringsalgoritmer att lära sig. Här är en rad nyttiga exempel:\n",
    "\n",
    "* Transpositionschiffer\n",
    "* Chiffer\n",
    "    * rot13\n",
    "    * Bokchiffer\n",
    "    * One-time pad\n",
    "* Asymmetrisk kryptering\n",
    "* RSA\n",
    "\n"
   ]
  },
  {
   "cell_type": "markdown",
   "metadata": {
    "slideshow": {
     "slide_type": "subslide"
    }
   },
   "source": [
    "__Transpositionschiffer__\n",
    "\n",
    "Går ut på att tranformera en text i en specifik ordning. I vardagen brukar man göra det genom en matris. Där man delar upp texten på rader och sedan väljer en sekvens eller ordning som man väljer en bokstav per rad."
   ]
  },
  {
   "cell_type": "code",
   "execution_count": 49,
   "metadata": {
    "slideshow": {
     "slide_type": "fragment"
    }
   },
   "outputs": [
    {
     "data": {
      "text/plain": [
       "'JLHOAOHNLNDT E_'"
      ]
     },
     "execution_count": 49,
     "metadata": {},
     "output_type": "execute_result"
    }
   ],
   "source": [
    "import math\n",
    "\n",
    "def transpose_chifer(text):\n",
    "    M = len(text)\n",
    "    N = 3\n",
    "    matrix = []\n",
    "    K = math.ceil(M / N)\n",
    "    i = 0\n",
    "    chifer = ''\n",
    "    for j in range(N):\n",
    "        matrix.append(list(text[i:K*(j+1)]))\n",
    "        if len(matrix[j]) != K:\n",
    "            matrix[j] += ['_'] * abs(K - len(matrix[j]))\n",
    "        i += K\n",
    "    if K*N < M:\n",
    "        if len(text[i:]) < K:\n",
    "            s = text[i:] + '_' * abs(K - len(text[i:]))\n",
    "        else:\n",
    "            s = text[i:]\n",
    "        matrix.append(s)\n",
    "    for i in range(K):\n",
    "        for row in matrix:\n",
    "            chifer += row[i]\n",
    "    return chifer\n",
    "        \n",
    "transpose_chifer('JOHN LANDEHOLT')"
   ]
  },
  {
   "cell_type": "markdown",
   "metadata": {
    "slideshow": {
     "slide_type": "slide"
    }
   },
   "source": [
    "__ROT13 chiffer__\n",
    "\n",
    "Går ut på att man har mappat om alfabetet så att A blir till N, genom att förskjuta alfabetet 13 bokstäver."
   ]
  },
  {
   "cell_type": "code",
   "execution_count": 73,
   "metadata": {
    "slideshow": {
     "slide_type": "fragment"
    }
   },
   "outputs": [
    {
     "data": {
      "text/plain": [
       "'wbuaynaqrubyg'"
      ]
     },
     "execution_count": 73,
     "metadata": {},
     "output_type": "execute_result"
    }
   ],
   "source": [
    "from string import ascii_lowercase\n",
    "def rot13(text):\n",
    "    char2num = {c:i for i,c in enumerate(ascii_lowercase)}\n",
    "    num2char = {i:c for i,c in enumerate(ascii_lowercase)}\n",
    "    chifer = ''\n",
    "    for c in text.lower():\n",
    "        try:\n",
    "            chifer += num2char[(char2num[c] + 13) % len(num2char)]\n",
    "        except:\n",
    "            pass\n",
    "    return chifer\n",
    "\n",
    "rot13('John Landeholt')"
   ]
  },
  {
   "cell_type": "markdown",
   "metadata": {
    "slideshow": {
     "slide_type": "slide"
    }
   },
   "source": [
    "__bokchiffer__\n",
    "\n",
    "Går ut på att man väljer en bok, gärna en stor bok, så att man kan enkoda rika texter. Bokchiffer går ut på att parterna har en kopia var av samma upplaga av någon bok och sedan skapar de sifforemsor, där första siffran indikerar vilken sida och andra vilket ord.\n",
    "\n",
    "    There was a man that was hiding issues from his family. \n",
    "    He was bankrupt and in financial ruins after his business had failed.\n",
    "    He couldn't even afford plain white bread to the family, but the family was\n",
    "    not allowed to see the sight of this, so he hatched a plan to make it all back.\n",
    "\n",
    "Om vi tar denna påhittade text som exempel där varje rad representerar en sida.\n",
    "\n",
    "Vad blir då sifferremsan `1 7 2 5 3 5 4 6`?"
   ]
  },
  {
   "cell_type": "markdown",
   "metadata": {
    "slideshow": {
     "slide_type": "fragment"
    }
   },
   "source": [
    "__Lösningsförslag__\n",
    "\n",
    "There was a man that was __hiding__ issues from his family.\n",
    "\n",
    "He was bankrupt and __in__ financial ruins after his business had failed.\n",
    "\n",
    "He couldn't even afford __plain__ white bread to the family, but the family was\n",
    "\n",
    "not allowed to see the __sight__ of this, so he hatched a plan to make it all back."
   ]
  },
  {
   "cell_type": "code",
   "execution_count": null,
   "metadata": {},
   "outputs": [],
   "source": []
  }
 ],
 "metadata": {
  "celltoolbar": "Slideshow",
  "kernelspec": {
   "display_name": "Python 3",
   "language": "python",
   "name": "python3"
  },
  "language_info": {
   "codemirror_mode": {
    "name": "ipython",
    "version": 3
   },
   "file_extension": ".py",
   "mimetype": "text/x-python",
   "name": "python",
   "nbconvert_exporter": "python",
   "pygments_lexer": "ipython3",
   "version": "3.9.0"
  }
 },
 "nbformat": 4,
 "nbformat_minor": 4
}
