{
 "cells": [
  {
   "cell_type": "markdown",
   "metadata": {
    "slideshow": {
     "slide_type": "slide"
    }
   },
   "source": [
    "## Övning 6\n",
    "__John Landeholt__\n",
    "\n",
    "johnlan@kth.se\n",
    "\n",
    "\n",
    "__agenda:__\n",
    "\n",
    "* komprimering\n",
    "* kryptering"
   ]
  },
  {
   "cell_type": "markdown",
   "metadata": {
    "slideshow": {
     "slide_type": "slide"
    }
   },
   "source": [
    "### Komprimering\n",
    "\n",
    "Det finns två sorters komprimering:\n",
    "\n",
    "* non-lossy compression - konverterar data\n",
    "* lossy compression - tar bort data\n",
    "\n",
    "__Följdlängdskodning__\n",
    "\n",
    "Är en av de mer intuitiva kompressionsalgoritmerna, som minimerar följder av samma tecken genom att eliminera alla dubbletter och istället spara antalet som en siffra.\n",
    "\n",
    "Men är inte så värst användbar i verkligenheten, då texter inte brukar innehålla långa följder av samma tecken."
   ]
  },
  {
   "cell_type": "code",
   "execution_count": 1,
   "metadata": {
    "slideshow": {
     "slide_type": "fragment"
    }
   },
   "outputs": [],
   "source": [
    "from sys import getsizeof\n",
    "\n",
    "def comp_rate(text,encoding):\n",
    "    before = getsizeof(text)\n",
    "    after = getsizeof(encoding)\n",
    "    return (before - after) / after * 100\n",
    "\n",
    "def rle_encoding(text):\n",
    "    encoding = ''\n",
    "    prev = ''\n",
    "    count = 1\n",
    "    for c in text:\n",
    "        if c != prev:\n",
    "            if prev:\n",
    "                if count == 1:\n",
    "                    encoding += prev\n",
    "                else:\n",
    "                    encoding += str(count) + prev\n",
    "            count = 1\n",
    "            prev = c\n",
    "        else:\n",
    "            count += 1\n",
    "    encoding += str(count) + prev\n",
    "    \n",
    "    \n",
    "    rate = comp_rate(text,encoding)\n",
    "    print(f'compressed input with {round(rate, 2)}%')\n",
    "    return encoding\n",
    "\n",
    "encoding = rle_encoding('ÅÅÅÅH! JAAAAAAA! AAAAAAAAAAAAH.')\n",
    "print(encoding)"
   ]
  },
  {
   "cell_type": "code",
   "execution_count": 2,
   "metadata": {
    "slideshow": {
     "slide_type": "subslide"
    }
   },
   "outputs": [],
   "source": [
    "def rle_decoding(encoding):\n",
    "    decoding = ''\n",
    "    count = ''\n",
    "    for c in encoding:\n",
    "        if c.isnumeric():\n",
    "            count += c\n",
    "        else:\n",
    "            if count == '':\n",
    "                decoding += c\n",
    "            else:\n",
    "                decoding += int(count) * c\n",
    "                count = ''\n",
    "    return decoding\n",
    "text = rle_decoding(encoding)\n",
    "print(text)"
   ]
  },
  {
   "cell_type": "markdown",
   "metadata": {
    "slideshow": {
     "slide_type": "slide"
    }
   },
   "source": [
    "__Huffmankodning__\n",
    "\n",
    "<img src=\"img/huffman.png\" style=\"float:right\" />\n",
    "\n",
    "Går ut på att __räkna__ hur vanliga tecken är i en text. Där det tecknet med högst frekvens får kortast binärkod.\n",
    "\n",
    "Man börjar med att räkna frekvensen av alla tecken i texten, sedan placerar du det i en prioritetskö, där den med högst prioritet har minst sannolikhet (en min-heap).\n",
    "\n",
    "Sedan för varje par i kön så samlar du alla __0__ för det vänstra paret och __1__ för det högra paret, tills det endast finns ett par i kön, vilket kommer att vara roten som har sannolikheten __1__.\n",
    "\n",
    "Detta innebär att du alltså börjar med löven i trädet och bygger dig upp för varje par.\n",
    "\n",
    "På bilden ser vi att paret __(R,G)__ summeras upp till __2__ för att sedan i nästa loop bli till paret __(I, (R,G))__ vars summa är __4__ osv..\n",
    "\n",
    "Sedan traversar man trädet igen och plockar med sig kodningen, som för __G__ blir __0111__\n",
    "\n",
    "> __notera__: huffmankodning är endast non-lossy om `frekvenstabellen` sparas. Annars är den lossy."
   ]
  },
  {
   "cell_type": "code",
   "execution_count": 2,
   "metadata": {
    "slideshow": {
     "slide_type": "fragment"
    }
   },
   "outputs": [
    {
     "name": "stdout",
     "output_type": "stream",
     "text": [
      "\u001b[31m{\u001b[0mG: None\u001b[31m}\u001b[0m: 1 \u001b[31m{\u001b[0m!: None\u001b[31m}\u001b[0m: 2 \u001b[31m{\u001b[0mR: None\u001b[31m}\u001b[0m: 1 \u001b[31m{\u001b[0mI: None\u001b[31m}\u001b[0m: 6 \u001b[31m{\u001b[0mH: None\u001b[31m}\u001b[0m: 4 \u001b[31m{\u001b[0mA: None\u001b[31m}\u001b[0m: 3 \u001b[31m{\u001b[0m.: None\u001b[31m}\u001b[0m: 3 \n",
      "\u001b[31m{\u001b[0mG: 0, R: 1\u001b[31m}\u001b[0m: 2 \u001b[31m{\u001b[0m.: None\u001b[31m}\u001b[0m: 3 \u001b[31m{\u001b[0m!: None\u001b[31m}\u001b[0m: 2 \u001b[31m{\u001b[0mI: None\u001b[31m}\u001b[0m: 6 \u001b[31m{\u001b[0mH: None\u001b[31m}\u001b[0m: 4 \u001b[31m{\u001b[0mA: None\u001b[31m}\u001b[0m: 3 \n",
      "\u001b[31m{\u001b[0mA: None\u001b[31m}\u001b[0m: 3 \u001b[31m{\u001b[0m.: None\u001b[31m}\u001b[0m: 3 \u001b[31m{\u001b[0mH: None\u001b[31m}\u001b[0m: 4 \u001b[31m{\u001b[0mI: None\u001b[31m}\u001b[0m: 6 \u001b[31m{\u001b[0mG: 00, R: 01, !: 1\u001b[31m}\u001b[0m: 4 \n",
      "\u001b[31m{\u001b[0mH: None\u001b[31m}\u001b[0m: 4 \u001b[31m{\u001b[0mG: 00, R: 01, !: 1\u001b[31m}\u001b[0m: 4 \u001b[31m{\u001b[0mI: None\u001b[31m}\u001b[0m: 6 \u001b[31m{\u001b[0mA: 0, .: 1\u001b[31m}\u001b[0m: 6 \n",
      "\u001b[31m{\u001b[0mA: 0, .: 1\u001b[31m}\u001b[0m: 6 \u001b[31m{\u001b[0mI: None\u001b[31m}\u001b[0m: 6 \u001b[31m{\u001b[0mH: 0, G: 100, R: 101, !: 11\u001b[31m}\u001b[0m: 8 \n",
      "\u001b[31m{\u001b[0mH: 0, G: 100, R: 101, !: 11\u001b[31m}\u001b[0m: 8 \u001b[31m{\u001b[0mA: 00, .: 01, I: 1\u001b[31m}\u001b[0m: 12 \n",
      "\u001b[31m{\u001b[0mH: 00, G: 0100, R: 0101, !: 011, A: 100, .: 101, I: 11\u001b[31m}\u001b[0m: 20 \n",
      "00 100 00 100 011 11 11 11 11 11 11 00 011 100 00 0101 0100 101 101 101\n"
     ]
    }
   ],
   "source": [
    "from shared import Min_heap, Huffman_node\n",
    "from collections import defaultdict\n",
    "from time import sleep\n",
    "\n",
    "def print_heap(heap):\n",
    "    for n in heap.array[1:]:\n",
    "        print(n, end= ' ')\n",
    "    print()\n",
    "        \n",
    "def huffman_encode(text):\n",
    "    freq = defaultdict(int)\n",
    "    heap = Min_heap()\n",
    "    \n",
    "    for c in text: freq[c] += 1\n",
    "    for k,v in freq.items(): heap.insert(Huffman_node(k,v))\n",
    "    while len(heap) > 1:\n",
    "        print_heap(heap)\n",
    "        left, right = heap.pop(), heap.pop()\n",
    "        for p in left.pairs: p += '0'\n",
    "        for p in right.pairs: p += '1'\n",
    "        n = Huffman_node.merge(left, right)\n",
    "        heap.insert(n)\n",
    "        sleep(3)\n",
    "    print_heap(heap)\n",
    "    encoding = ''\n",
    "    node = heap.pop()\n",
    "    for c in text:\n",
    "        code = node[c]\n",
    "        if code:\n",
    "            encoding += code + ' '\n",
    "    return encoding[:-1], freq\n",
    "\n",
    "encoding, freq = huffman_encode('HAHA!IIIIIIH!AHRG...')\n",
    "print(encoding)"
   ]
  },
  {
   "cell_type": "code",
   "execution_count": 3,
   "metadata": {
    "slideshow": {
     "slide_type": "subslide"
    }
   },
   "outputs": [
    {
     "data": {
      "text/plain": [
       "'HAHA!IIIIIIH!AHRG...'"
      ]
     },
     "execution_count": 3,
     "metadata": {},
     "output_type": "execute_result"
    }
   ],
   "source": [
    "from shared import huffman_decode\n",
    "huffman_decode(encoding, freq)"
   ]
  },
  {
   "cell_type": "markdown",
   "metadata": {
    "slideshow": {
     "slide_type": "subslide"
    }
   },
   "source": [
    "### Huffmankodning\n",
    "\n",
    "__Hur gör vi det för hand?__\n",
    "\n",
    "Vi prövar med stringen \"man är mans gamman\".\n",
    "\n",
    "Steg:\n",
    "\n",
    "1. Beräkna frekvensen för alla tecken\n",
    "2. Sortera så att det tecknet med minst frekvens är först\n",
    "3. Placera dem i en kö så att det är minst -> störst\n",
    "4. poppa kön 2 gånger, summera frekvenserna för paret ge första tecknet en __0__ och andra en __1__\n",
    "5. pusha paret in i kön igen\n",
    "6. repetera punkt 4-5 tills det endast finns en nod i kön."
   ]
  },
  {
   "cell_type": "code",
   "execution_count": null,
   "metadata": {},
   "outputs": [],
   "source": []
  }
 ],
 "metadata": {
  "celltoolbar": "Slideshow",
  "kernelspec": {
   "display_name": "Python 3",
   "language": "python",
   "name": "python3"
  },
  "language_info": {
   "codemirror_mode": {
    "name": "ipython",
    "version": 3
   },
   "file_extension": ".py",
   "mimetype": "text/x-python",
   "name": "python",
   "nbconvert_exporter": "python",
   "pygments_lexer": "ipython3",
   "version": "3.9.0"
  }
 },
 "nbformat": 4,
 "nbformat_minor": 4
}
